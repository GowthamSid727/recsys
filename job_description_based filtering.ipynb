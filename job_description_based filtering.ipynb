{
 "cells": [
  {
   "cell_type": "code",
   "execution_count": 4,
   "metadata": {},
   "outputs": [],
   "source": [
    "# Importing Lib\n",
    "import pandas as pd\n",
    "import numpy as np"
   ]
  },
  {
   "cell_type": "markdown",
   "metadata": {},
   "source": [
    "### Sample DataFrame"
   ]
  },
  {
   "cell_type": "code",
   "execution_count": 5,
   "metadata": {},
   "outputs": [
    {
     "data": {
      "text/html": [
       "<div>\n",
       "<style scoped>\n",
       "    .dataframe tbody tr th:only-of-type {\n",
       "        vertical-align: middle;\n",
       "    }\n",
       "\n",
       "    .dataframe tbody tr th {\n",
       "        vertical-align: top;\n",
       "    }\n",
       "\n",
       "    .dataframe thead th {\n",
       "        text-align: right;\n",
       "    }\n",
       "</style>\n",
       "<table border=\"1\" class=\"dataframe\">\n",
       "  <thead>\n",
       "    <tr style=\"text-align: right;\">\n",
       "      <th></th>\n",
       "      <th>user_0</th>\n",
       "      <th>user_1</th>\n",
       "      <th>user_2</th>\n",
       "      <th>user_3</th>\n",
       "      <th>user_4</th>\n",
       "      <th>user_5</th>\n",
       "      <th>user_6</th>\n",
       "      <th>user_7</th>\n",
       "      <th>user_8</th>\n",
       "      <th>user_9</th>\n",
       "    </tr>\n",
       "  </thead>\n",
       "  <tbody>\n",
       "    <tr>\n",
       "      <th>job_title_0</th>\n",
       "      <td>0</td>\n",
       "      <td>0</td>\n",
       "      <td>3</td>\n",
       "      <td>4</td>\n",
       "      <td>2</td>\n",
       "      <td>1</td>\n",
       "      <td>2</td>\n",
       "      <td>0</td>\n",
       "      <td>5</td>\n",
       "      <td>1</td>\n",
       "    </tr>\n",
       "    <tr>\n",
       "      <th>job_title_1</th>\n",
       "      <td>3</td>\n",
       "      <td>0</td>\n",
       "      <td>1</td>\n",
       "      <td>3</td>\n",
       "      <td>0</td>\n",
       "      <td>0</td>\n",
       "      <td>0</td>\n",
       "      <td>0</td>\n",
       "      <td>0</td>\n",
       "      <td>0</td>\n",
       "    </tr>\n",
       "    <tr>\n",
       "      <th>job_title_2</th>\n",
       "      <td>0</td>\n",
       "      <td>3</td>\n",
       "      <td>0</td>\n",
       "      <td>4</td>\n",
       "      <td>0</td>\n",
       "      <td>2</td>\n",
       "      <td>0</td>\n",
       "      <td>0</td>\n",
       "      <td>0</td>\n",
       "      <td>2</td>\n",
       "    </tr>\n",
       "    <tr>\n",
       "      <th>job_title_3</th>\n",
       "      <td>5</td>\n",
       "      <td>2</td>\n",
       "      <td>3</td>\n",
       "      <td>2</td>\n",
       "      <td>0</td>\n",
       "      <td>4</td>\n",
       "      <td>3</td>\n",
       "      <td>3</td>\n",
       "      <td>0</td>\n",
       "      <td>0</td>\n",
       "    </tr>\n",
       "    <tr>\n",
       "      <th>job_title_4</th>\n",
       "      <td>0</td>\n",
       "      <td>5</td>\n",
       "      <td>5</td>\n",
       "      <td>0</td>\n",
       "      <td>0</td>\n",
       "      <td>0</td>\n",
       "      <td>0</td>\n",
       "      <td>0</td>\n",
       "      <td>5</td>\n",
       "      <td>4</td>\n",
       "    </tr>\n",
       "    <tr>\n",
       "      <th>job_title_5</th>\n",
       "      <td>0</td>\n",
       "      <td>0</td>\n",
       "      <td>0</td>\n",
       "      <td>0</td>\n",
       "      <td>4</td>\n",
       "      <td>0</td>\n",
       "      <td>4</td>\n",
       "      <td>2</td>\n",
       "      <td>3</td>\n",
       "      <td>0</td>\n",
       "    </tr>\n",
       "    <tr>\n",
       "      <th>job_title_6</th>\n",
       "      <td>4</td>\n",
       "      <td>4</td>\n",
       "      <td>0</td>\n",
       "      <td>0</td>\n",
       "      <td>4</td>\n",
       "      <td>4</td>\n",
       "      <td>3</td>\n",
       "      <td>4</td>\n",
       "      <td>0</td>\n",
       "      <td>4</td>\n",
       "    </tr>\n",
       "    <tr>\n",
       "      <th>job_title_7</th>\n",
       "      <td>5</td>\n",
       "      <td>0</td>\n",
       "      <td>4</td>\n",
       "      <td>2</td>\n",
       "      <td>3</td>\n",
       "      <td>0</td>\n",
       "      <td>3</td>\n",
       "      <td>3</td>\n",
       "      <td>3</td>\n",
       "      <td>3</td>\n",
       "    </tr>\n",
       "    <tr>\n",
       "      <th>job_title_8</th>\n",
       "      <td>0</td>\n",
       "      <td>3</td>\n",
       "      <td>0</td>\n",
       "      <td>0</td>\n",
       "      <td>5</td>\n",
       "      <td>5</td>\n",
       "      <td>0</td>\n",
       "      <td>4</td>\n",
       "      <td>0</td>\n",
       "      <td>0</td>\n",
       "    </tr>\n",
       "    <tr>\n",
       "      <th>job_title_9</th>\n",
       "      <td>2</td>\n",
       "      <td>0</td>\n",
       "      <td>0</td>\n",
       "      <td>0</td>\n",
       "      <td>0</td>\n",
       "      <td>0</td>\n",
       "      <td>0</td>\n",
       "      <td>0</td>\n",
       "      <td>4</td>\n",
       "      <td>0</td>\n",
       "    </tr>\n",
       "  </tbody>\n",
       "</table>\n",
       "</div>"
      ],
      "text/plain": [
       "             user_0  user_1  user_2  user_3  user_4  user_5  user_6  user_7  \\\n",
       "job_title_0       0       0       3       4       2       1       2       0   \n",
       "job_title_1       3       0       1       3       0       0       0       0   \n",
       "job_title_2       0       3       0       4       0       2       0       0   \n",
       "job_title_3       5       2       3       2       0       4       3       3   \n",
       "job_title_4       0       5       5       0       0       0       0       0   \n",
       "job_title_5       0       0       0       0       4       0       4       2   \n",
       "job_title_6       4       4       0       0       4       4       3       4   \n",
       "job_title_7       5       0       4       2       3       0       3       3   \n",
       "job_title_8       0       3       0       0       5       5       0       4   \n",
       "job_title_9       2       0       0       0       0       0       0       0   \n",
       "\n",
       "             user_8  user_9  \n",
       "job_title_0       5       1  \n",
       "job_title_1       0       0  \n",
       "job_title_2       0       2  \n",
       "job_title_3       0       0  \n",
       "job_title_4       5       4  \n",
       "job_title_5       3       0  \n",
       "job_title_6       0       4  \n",
       "job_title_7       3       3  \n",
       "job_title_8       0       0  \n",
       "job_title_9       4       0  "
      ]
     },
     "execution_count": 5,
     "metadata": {},
     "output_type": "execute_result"
    }
   ],
   "source": [
    "df = pd.DataFrame({'user_0':[0,3,0,5,0,0,4,5,0,2], 'user_1':[0,0,3,2,5,0,4,0,3,0], 'user_2':[3,1,0,3,5,0,0,4,0,0], 'user_3':[4,3,4,2,0,0,0,2,0,0], \n",
    "                   'user_4':[2,0,0,0,0,4,4,3,5,0], 'user_5':[1,0,2,4,0,0,4,0,5,0], 'user_6':[2,0,0,3,0,4,3,3,0,0], 'user_7':[0,0,0,3,0,2,4,3,4,0], \n",
    "                   'user_8':[5,0,0,0,5,3,0,3,0,4], 'user_9':[1,0,2,0,4,0,4,3,0,0]}, index=['job_title_0','job_title_1','job_title_2','job_title_3','job_title_4','job_title_5','job_title_6','job_title_7','job_title_8','job_title_9'])\n",
    "df"
   ]
  },
  {
   "cell_type": "code",
   "execution_count": 6,
   "metadata": {},
   "outputs": [
    {
     "data": {
      "text/plain": [
       "array([[0, 0, 3, 4, 2, 1, 2, 0, 5, 1],\n",
       "       [3, 0, 1, 3, 0, 0, 0, 0, 0, 0],\n",
       "       [0, 3, 0, 4, 0, 2, 0, 0, 0, 2],\n",
       "       [5, 2, 3, 2, 0, 4, 3, 3, 0, 0],\n",
       "       [0, 5, 5, 0, 0, 0, 0, 0, 5, 4],\n",
       "       [0, 0, 0, 0, 4, 0, 4, 2, 3, 0],\n",
       "       [4, 4, 0, 0, 4, 4, 3, 4, 0, 4],\n",
       "       [5, 0, 4, 2, 3, 0, 3, 3, 3, 3],\n",
       "       [0, 3, 0, 0, 5, 5, 0, 4, 0, 0],\n",
       "       [2, 0, 0, 0, 0, 0, 0, 0, 4, 0]])"
      ]
     },
     "execution_count": 6,
     "metadata": {},
     "output_type": "execute_result"
    }
   ],
   "source": [
    "df.values"
   ]
  },
  {
   "cell_type": "code",
   "execution_count": 7,
   "metadata": {},
   "outputs": [],
   "source": [
    "from sklearn.neighbors import NearestNeighbors"
   ]
  },
  {
   "cell_type": "markdown",
   "metadata": {},
   "source": [
    "### Finding Similarity"
   ]
  },
  {
   "cell_type": "code",
   "execution_count": 8,
   "metadata": {},
   "outputs": [],
   "source": [
    "knn = NearestNeighbors(metric='cosine', algorithm='brute')\n",
    "knn.fit(df.values)\n",
    "distances, indices = knn.kneighbors(df.values, n_neighbors=5)"
   ]
  },
  {
   "cell_type": "markdown",
   "metadata": {},
   "source": [
    "#### Recommendataion based on Distances and vectors from KNN"
   ]
  },
  {
   "cell_type": "code",
   "execution_count": 9,
   "metadata": {},
   "outputs": [
    {
     "name": "stdout",
     "output_type": "stream",
     "text": [
      "------> [0, 7, 5, 4, 9]\n",
      "------> 0\n",
      "Similar Movies to job_title_0:\n",
      "\n",
      "1: job_title_7, the distance with job_title_0: 0.3195861825602283\n",
      "2: job_title_5, the distance with job_title_0: 0.40340472183738674\n",
      "3: job_title_4, the distance with job_title_0: 0.40453484184315647\n",
      "4: job_title_9, the distance with job_title_0: 0.42264973081037427\n",
      "\n",
      "\n",
      "------> [1, 3, 7, 2, 0]\n",
      "------> 0\n",
      "Similar Movies to job_title_1:\n",
      "\n",
      "1: job_title_3, the distance with job_title_1: 0.3684210526315791\n",
      "2: job_title_7, the distance with job_title_1: 0.39543645824165696\n",
      "3: job_title_2, the distance with job_title_1: 0.5207661617014769\n",
      "4: job_title_0, the distance with job_title_1: 0.5557383416806808\n",
      "\n",
      "\n",
      "------> [2, 1, 6, 0, 3]\n",
      "------> 0\n",
      "Similar Movies to job_title_2:\n",
      "\n",
      "1: job_title_1, the distance with job_title_2: 0.5207661617014769\n",
      "2: job_title_6, the distance with job_title_2: 0.5243292879915494\n",
      "3: job_title_0, the distance with job_title_2: 0.5505334250245053\n",
      "4: job_title_3, the distance with job_title_2: 0.5607023148930206\n",
      "\n",
      "\n",
      "------> [3, 6, 7, 1, 8]\n",
      "------> 0\n",
      "Similar Movies to job_title_3:\n",
      "\n",
      "1: job_title_6, the distance with job_title_3: 0.27236779788557686\n",
      "2: job_title_7, the distance with job_title_3: 0.2866150207251553\n",
      "3: job_title_1, the distance with job_title_3: 0.3684210526315791\n",
      "4: job_title_8, the distance with job_title_3: 0.49667770431528346\n",
      "\n",
      "\n",
      "------> [4, 0, 7, 9, 2]\n",
      "------> 0\n",
      "Similar Movies to job_title_4:\n",
      "\n",
      "1: job_title_0, the distance with job_title_4: 0.40453484184315647\n",
      "2: job_title_7, the distance with job_title_4: 0.4806550570967598\n",
      "3: job_title_9, the distance with job_title_4: 0.5311927690615046\n",
      "4: job_title_2, the distance with job_title_4: 0.5802891755539581\n",
      "\n",
      "\n",
      "------> [5, 7, 0, 6, 8]\n",
      "------> 0\n",
      "Similar Movies to job_title_5:\n",
      "\n",
      "1: job_title_7, the distance with job_title_5: 0.38717412297165876\n",
      "2: job_title_0, the distance with job_title_5: 0.40340472183738674\n",
      "3: job_title_6, the distance with job_title_5: 0.4762770634336182\n",
      "4: job_title_8, the distance with job_title_5: 0.5180287391386326\n",
      "\n",
      "\n",
      "------> [6, 8, 3, 7, 5]\n",
      "------> 0\n",
      "Similar Movies to job_title_6:\n",
      "\n",
      "1: job_title_8, the distance with job_title_6: 0.23372680904614496\n",
      "2: job_title_3, the distance with job_title_6: 0.27236779788557686\n",
      "3: job_title_7, the distance with job_title_6: 0.33135215016426833\n",
      "4: job_title_5, the distance with job_title_6: 0.4762770634336182\n",
      "\n",
      "\n",
      "------> [7, 3, 0, 6, 5]\n",
      "------> 0\n",
      "Similar Movies to job_title_7:\n",
      "\n",
      "1: job_title_3, the distance with job_title_7: 0.2866150207251553\n",
      "2: job_title_0, the distance with job_title_7: 0.3195861825602283\n",
      "3: job_title_6, the distance with job_title_7: 0.33135215016426833\n",
      "4: job_title_5, the distance with job_title_7: 0.38717412297165876\n",
      "\n",
      "\n",
      "------> [8, 6, 3, 5, 2]\n",
      "------> 0\n",
      "Similar Movies to job_title_8:\n",
      "\n",
      "1: job_title_6, the distance with job_title_8: 0.23372680904614496\n",
      "2: job_title_3, the distance with job_title_8: 0.49667770431528346\n",
      "3: job_title_5, the distance with job_title_8: 0.5180287391386326\n",
      "4: job_title_2, the distance with job_title_8: 0.6180856302014994\n",
      "\n",
      "\n",
      "------> [9, 0, 7, 4, 5]\n",
      "------> 0\n",
      "Similar Movies to job_title_9:\n",
      "\n",
      "1: job_title_0, the distance with job_title_9: 0.42264973081037427\n",
      "2: job_title_7, the distance with job_title_9: 0.4814550271298651\n",
      "3: job_title_4, the distance with job_title_9: 0.5311927690615046\n",
      "4: job_title_5, the distance with job_title_9: 0.6000000000000001\n",
      "\n",
      "\n"
     ]
    }
   ],
   "source": [
    "for title in df.index:\n",
    "  \n",
    "  index_user_likes = df.index.tolist().index(title) # get an index for a movie\n",
    "  sim_movies = indices[index_user_likes].tolist() # make list for similar movies\n",
    "  print(\"------>\",sim_movies)\n",
    "  movie_distances = distances[index_user_likes].tolist() # the list for distances of similar movies\n",
    "  id_movie = sim_movies.index(index_user_likes) # get the position of the movie itself in indices and distances\n",
    "  print(\"------>\",id_movie)\n",
    "\n",
    "  print('Similar Movies to '+str(df.index[index_user_likes])+':\\n')\n",
    "\n",
    "\n",
    "  sim_movies.remove(index_user_likes) # remove the movie itself in indices\n",
    "  movie_distances.pop(id_movie) # remove the movie itself in distances\n",
    "\n",
    "  j = 1\n",
    "  \n",
    "  for i in sim_movies:\n",
    "    print(str(j)+': '+str(df.index[i])+', the distance with '+str(title)+': '+str(movie_distances[j-1]))\n",
    "    j = j + 1\n",
    "      \n",
    "  print('\\n')"
   ]
  },
  {
   "cell_type": "markdown",
   "metadata": {},
   "source": [
    "# Predict a Rating for a Job by a User"
   ]
  },
  {
   "cell_type": "code",
   "execution_count": 10,
   "metadata": {},
   "outputs": [
    {
     "data": {
      "text/html": [
       "<div>\n",
       "<style scoped>\n",
       "    .dataframe tbody tr th:only-of-type {\n",
       "        vertical-align: middle;\n",
       "    }\n",
       "\n",
       "    .dataframe tbody tr th {\n",
       "        vertical-align: top;\n",
       "    }\n",
       "\n",
       "    .dataframe thead th {\n",
       "        text-align: right;\n",
       "    }\n",
       "</style>\n",
       "<table border=\"1\" class=\"dataframe\">\n",
       "  <thead>\n",
       "    <tr style=\"text-align: right;\">\n",
       "      <th></th>\n",
       "      <th>user_0</th>\n",
       "      <th>user_1</th>\n",
       "      <th>user_2</th>\n",
       "      <th>user_3</th>\n",
       "      <th>user_4</th>\n",
       "      <th>user_5</th>\n",
       "      <th>user_6</th>\n",
       "      <th>user_7</th>\n",
       "      <th>user_8</th>\n",
       "      <th>user_9</th>\n",
       "    </tr>\n",
       "  </thead>\n",
       "  <tbody>\n",
       "    <tr>\n",
       "      <th>job_title_0</th>\n",
       "      <td>0</td>\n",
       "      <td>0</td>\n",
       "      <td>3</td>\n",
       "      <td>4</td>\n",
       "      <td>2</td>\n",
       "      <td>1</td>\n",
       "      <td>2</td>\n",
       "      <td>0</td>\n",
       "      <td>5</td>\n",
       "      <td>1</td>\n",
       "    </tr>\n",
       "    <tr>\n",
       "      <th>job_title_1</th>\n",
       "      <td>3</td>\n",
       "      <td>0</td>\n",
       "      <td>1</td>\n",
       "      <td>3</td>\n",
       "      <td>0</td>\n",
       "      <td>0</td>\n",
       "      <td>0</td>\n",
       "      <td>0</td>\n",
       "      <td>0</td>\n",
       "      <td>0</td>\n",
       "    </tr>\n",
       "    <tr>\n",
       "      <th>job_title_2</th>\n",
       "      <td>0</td>\n",
       "      <td>3</td>\n",
       "      <td>0</td>\n",
       "      <td>4</td>\n",
       "      <td>0</td>\n",
       "      <td>2</td>\n",
       "      <td>0</td>\n",
       "      <td>0</td>\n",
       "      <td>0</td>\n",
       "      <td>2</td>\n",
       "    </tr>\n",
       "    <tr>\n",
       "      <th>job_title_3</th>\n",
       "      <td>5</td>\n",
       "      <td>2</td>\n",
       "      <td>3</td>\n",
       "      <td>2</td>\n",
       "      <td>0</td>\n",
       "      <td>4</td>\n",
       "      <td>3</td>\n",
       "      <td>3</td>\n",
       "      <td>0</td>\n",
       "      <td>0</td>\n",
       "    </tr>\n",
       "    <tr>\n",
       "      <th>job_title_4</th>\n",
       "      <td>0</td>\n",
       "      <td>5</td>\n",
       "      <td>5</td>\n",
       "      <td>0</td>\n",
       "      <td>0</td>\n",
       "      <td>0</td>\n",
       "      <td>0</td>\n",
       "      <td>0</td>\n",
       "      <td>5</td>\n",
       "      <td>4</td>\n",
       "    </tr>\n",
       "    <tr>\n",
       "      <th>job_title_5</th>\n",
       "      <td>0</td>\n",
       "      <td>0</td>\n",
       "      <td>0</td>\n",
       "      <td>0</td>\n",
       "      <td>4</td>\n",
       "      <td>0</td>\n",
       "      <td>4</td>\n",
       "      <td>2</td>\n",
       "      <td>3</td>\n",
       "      <td>0</td>\n",
       "    </tr>\n",
       "    <tr>\n",
       "      <th>job_title_6</th>\n",
       "      <td>4</td>\n",
       "      <td>4</td>\n",
       "      <td>0</td>\n",
       "      <td>0</td>\n",
       "      <td>4</td>\n",
       "      <td>4</td>\n",
       "      <td>3</td>\n",
       "      <td>4</td>\n",
       "      <td>0</td>\n",
       "      <td>4</td>\n",
       "    </tr>\n",
       "    <tr>\n",
       "      <th>job_title_7</th>\n",
       "      <td>5</td>\n",
       "      <td>0</td>\n",
       "      <td>4</td>\n",
       "      <td>2</td>\n",
       "      <td>3</td>\n",
       "      <td>0</td>\n",
       "      <td>3</td>\n",
       "      <td>3</td>\n",
       "      <td>3</td>\n",
       "      <td>3</td>\n",
       "    </tr>\n",
       "    <tr>\n",
       "      <th>job_title_8</th>\n",
       "      <td>0</td>\n",
       "      <td>3</td>\n",
       "      <td>0</td>\n",
       "      <td>0</td>\n",
       "      <td>5</td>\n",
       "      <td>5</td>\n",
       "      <td>0</td>\n",
       "      <td>4</td>\n",
       "      <td>0</td>\n",
       "      <td>0</td>\n",
       "    </tr>\n",
       "    <tr>\n",
       "      <th>job_title_9</th>\n",
       "      <td>2</td>\n",
       "      <td>0</td>\n",
       "      <td>0</td>\n",
       "      <td>0</td>\n",
       "      <td>0</td>\n",
       "      <td>0</td>\n",
       "      <td>0</td>\n",
       "      <td>0</td>\n",
       "      <td>4</td>\n",
       "      <td>0</td>\n",
       "    </tr>\n",
       "  </tbody>\n",
       "</table>\n",
       "</div>"
      ],
      "text/plain": [
       "             user_0  user_1  user_2  user_3  user_4  user_5  user_6  user_7  \\\n",
       "job_title_0       0       0       3       4       2       1       2       0   \n",
       "job_title_1       3       0       1       3       0       0       0       0   \n",
       "job_title_2       0       3       0       4       0       2       0       0   \n",
       "job_title_3       5       2       3       2       0       4       3       3   \n",
       "job_title_4       0       5       5       0       0       0       0       0   \n",
       "job_title_5       0       0       0       0       4       0       4       2   \n",
       "job_title_6       4       4       0       0       4       4       3       4   \n",
       "job_title_7       5       0       4       2       3       0       3       3   \n",
       "job_title_8       0       3       0       0       5       5       0       4   \n",
       "job_title_9       2       0       0       0       0       0       0       0   \n",
       "\n",
       "             user_8  user_9  \n",
       "job_title_0       5       1  \n",
       "job_title_1       0       0  \n",
       "job_title_2       0       2  \n",
       "job_title_3       0       0  \n",
       "job_title_4       5       4  \n",
       "job_title_5       3       0  \n",
       "job_title_6       0       4  \n",
       "job_title_7       3       3  \n",
       "job_title_8       0       0  \n",
       "job_title_9       4       0  "
      ]
     },
     "execution_count": 10,
     "metadata": {},
     "output_type": "execute_result"
    }
   ],
   "source": [
    "df"
   ]
  },
  {
   "cell_type": "code",
   "execution_count": 11,
   "metadata": {},
   "outputs": [],
   "source": [
    "knn = NearestNeighbors(metric='cosine', algorithm='brute')\n",
    "knn.fit(df.values)\n",
    "distances, indices = knn.kneighbors(df.values, n_neighbors=3)"
   ]
  },
  {
   "cell_type": "code",
   "execution_count": 12,
   "metadata": {},
   "outputs": [
    {
     "name": "stdout",
     "output_type": "stream",
     "text": [
      "The Nearest Movies to job_title_0: [7, 5]\n",
      "The Distance from job_title_0: [0.3195861825602283, 0.40340472183738674]\n"
     ]
    }
   ],
   "source": [
    "index_for_movie = df.index.tolist().index('job_title_0') # it returns 0\n",
    "sim_movies = indices[index_for_movie].tolist() # make list for similar movies\n",
    "movie_distances = distances[index_for_movie].tolist() # the list for distances of similar movies\n",
    "id_movie = sim_movies.index(index_for_movie) # get the position of the movie itself in indices and distances\n",
    "sim_movies.remove(index_for_movie) # remove the movie itself in indices\n",
    "movie_distances.pop(id_movie) # remove the movie itself in distances\n",
    "\n",
    "print('The Nearest Movies to job_title_0:', sim_movies)\n",
    "print('The Distance from job_title_0:', movie_distances)"
   ]
  },
  {
   "cell_type": "code",
   "execution_count": 13,
   "metadata": {},
   "outputs": [
    {
     "name": "stdout",
     "output_type": "stream",
     "text": [
      "2.5328183015946415\n"
     ]
    }
   ],
   "source": [
    "movie_similarity = [-x+1 for x in movie_distances] # inverse distance \n",
    "\n",
    "predicted_rating = (movie_similarity[0]*df.iloc[sim_movies[0],7] + movie_similarity[1]*df.iloc[sim_movies[1],7])/sum(movie_similarity)\n",
    "print(predicted_rating)"
   ]
  },
  {
   "cell_type": "code",
   "execution_count": 14,
   "metadata": {},
   "outputs": [],
   "source": [
    "def recommend_movies(user, num_recommended_movies):\n",
    "\n",
    "  print('The list of the Movies {} Has Watched \\n'.format(user))\n",
    "\n",
    "  for m in df[df[user] > 0][user].index.tolist():\n",
    "    print(m)\n",
    "  \n",
    "  print('\\n')\n",
    "\n",
    "  recommended_movies = []\n",
    "\n",
    "  for m in df[df[user] == 0].index.tolist():\n",
    "\n",
    "    index_df = df.index.tolist().index(m)\n",
    "    predicted_rating = df.iloc[index_df, df.columns.tolist().index(user)]\n",
    "    recommended_movies.append((m, predicted_rating))\n",
    "\n",
    "  sorted_rm = sorted(recommended_movies, key=lambda x:x[1], reverse=True)\n",
    "  \n",
    "  print('The list of the Recommended Movies \\n')\n",
    "  rank = 1\n",
    "  for recommended_movie in sorted_rm[:num_recommended_movies]:\n",
    "    print('{}: {} - predicted rating:{}'.format(rank, recommended_movie[0], recommended_movie[1]))\n",
    "    rank = rank + 1"
   ]
  },
  {
   "cell_type": "code",
   "execution_count": 15,
   "metadata": {},
   "outputs": [
    {
     "name": "stdout",
     "output_type": "stream",
     "text": [
      "The list of the Movies user_4 Has Watched \n",
      "\n",
      "job_title_0\n",
      "job_title_5\n",
      "job_title_6\n",
      "job_title_7\n",
      "job_title_8\n",
      "\n",
      "\n",
      "The list of the Recommended Movies \n",
      "\n",
      "1: job_title_1 - predicted rating:0\n",
      "2: job_title_2 - predicted rating:0\n",
      "3: job_title_3 - predicted rating:0\n",
      "4: job_title_4 - predicted rating:0\n",
      "5: job_title_9 - predicted rating:0\n"
     ]
    }
   ],
   "source": [
    "recommend_movies('user_4',5)"
   ]
  },
  {
   "cell_type": "markdown",
   "metadata": {},
   "source": [
    "# Applying to Dataset"
   ]
  },
  {
   "cell_type": "code",
   "execution_count": 39,
   "metadata": {},
   "outputs": [],
   "source": [
    "ratings = pd.read_csv('dataset/data.csv', usecols=['userId','jobid','rating'])\n",
    "jobs = pd.read_csv('dataset/filtere_dice_jobs_dataset.csv', usecols=['jobid','jobtitle'])\n"
   ]
  },
  {
   "cell_type": "code",
   "execution_count": 40,
   "metadata": {},
   "outputs": [],
   "source": [
    "jobs['jobid'] = jobs.index"
   ]
  },
  {
   "cell_type": "code",
   "execution_count": 41,
   "metadata": {},
   "outputs": [],
   "source": [
    "ratings2 = pd.merge(ratings, jobs, how='inner', on='jobid')"
   ]
  },
  {
   "cell_type": "code",
   "execution_count": 42,
   "metadata": {},
   "outputs": [
    {
     "name": "stdout",
     "output_type": "stream",
     "text": [
      "rating_df shape : (71, 3)\n",
      "jd_df shape : (1563, 2)\n",
      "after combining the jobs and ratings dataframe shape : (71, 4)\n"
     ]
    }
   ],
   "source": [
    "print(\"rating_df shape :\",ratings.shape)\n",
    "print(\"jd_df shape :\",jobs.shape)\n",
    "print(\"after combining the jobs and ratings dataframe shape :\",ratings2.shape)"
   ]
  },
  {
   "cell_type": "code",
   "execution_count": 53,
   "metadata": {},
   "outputs": [
    {
     "name": "stdout",
     "output_type": "stream",
     "text": [
      "    userId  jobid  rating             jobtitle\n",
      "0        1     26       2       .Net Developer\n",
      "1        1    123       3       .Net Developer\n",
      "2        1    287       1       .Net Developer\n",
      "3        1    808       2  Front End Developer\n",
      "4        1    250       3  Front End Developer\n",
      "..     ...    ...     ...                  ...\n",
      "66      10   1406       1     Python Developer\n",
      "67      10    723       2     Python Developer\n",
      "68      10    114       1     Python Developer\n",
      "69      10    520       1      Devops Engineer\n",
      "70      10    586       2      DevOps Engineer\n",
      "\n",
      "[71 rows x 4 columns]\n"
     ]
    }
   ],
   "source": [
    "print(ratings2"
   ]
  },
  {
   "cell_type": "code",
   "execution_count": 47,
   "metadata": {},
   "outputs": [],
   "source": [
    "df = ratings2.pivot_table(index='jobtitle',columns='userId',values='rating').fillna(0)\n",
    "rating2_copy = df.copy()"
   ]
  },
  {
   "cell_type": "code",
   "execution_count": 48,
   "metadata": {},
   "outputs": [],
   "source": [
    "def recommend_movies(user, num_recommended_movies):\n",
    "\n",
    "  print('The list of the Movies {} Has Watched \\n'.format(user))\n",
    "\n",
    "  for m in df[df[user] > 0][user].index.tolist():\n",
    "    print(jobs[jobs[\"jobtitle\"]==m][\"jobid\"].values[0],m)\n",
    "  \n",
    "  print('\\n')\n",
    "\n",
    "  recommended_movies = []\n",
    "\n",
    "  for m in df[df[user] == 0].index.tolist():\n",
    "\n",
    "    index_df = df.index.tolist().index(m)\n",
    "    predicted_rating = rating2_copy.iloc[index_df, rating2_copy.columns.tolist().index(user)]\n",
    "    recommended_movies.append((m, predicted_rating))\n",
    "\n",
    "  sorted_rm = sorted(recommended_movies, key=lambda x:x[1], reverse=True)\n",
    "  print('The list of the Recommended Movies \\n')\n",
    "  rank = 1\n",
    "  for recommended_movie in sorted_rm[:num_recommended_movies]:\n",
    "    print('{}:Job ID- {} - {} - predicted rating:{}'.format(rank, jobs[jobs[\"jobtitle\"]==recommended_movie[0]][\"jobid\"].values[0],recommended_movie[0], recommended_movie[1]))\n",
    "    rank = rank + 1"
   ]
  },
  {
   "cell_type": "code",
   "execution_count": 49,
   "metadata": {},
   "outputs": [],
   "source": [
    "def movie_recommender(user, num_neighbors, num_recommendation):\n",
    "  \n",
    "  number_neighbors = num_neighbors\n",
    "\n",
    "  knn = NearestNeighbors(metric='cosine', algorithm='brute')\n",
    "  knn.fit(df.values)\n",
    "  distances, indices = knn.kneighbors(df.values, n_neighbors=number_neighbors)\n",
    "\n",
    "\n",
    "  user_index = df.columns.tolist().index(user)\n",
    "\n",
    "  for m,t in list(enumerate(df.index)):\n",
    "    if df.iloc[m, user_index] == 0:\n",
    "      sim_movies = indices[m].tolist()\n",
    "      movie_distances = distances[m].tolist()\n",
    "    \n",
    "      if m in sim_movies:\n",
    "        id_movie = sim_movies.index(m)\n",
    "        sim_movies.remove(m)\n",
    "        movie_distances.pop(id_movie) \n",
    "\n",
    "      else:\n",
    "        sim_movies = sim_movies[:num_neighbors-1]\n",
    "        movie_distances = movie_distances[:num_neighbors-1]\n",
    "           \n",
    "      movie_similarity = [1-x for x in movie_distances]\n",
    "      movie_similarity_copy = movie_similarity.copy()\n",
    "      nominator = 0\n",
    "\n",
    "      for s in range(0, len(movie_similarity)):\n",
    "        if df.iloc[sim_movies[s], user_index] == 0:\n",
    "          if len(movie_similarity_copy) == (number_neighbors - 1):\n",
    "            movie_similarity_copy.pop(s)\n",
    "          \n",
    "          else:\n",
    "            movie_similarity_copy.pop(s-(len(movie_similarity)-len(movie_similarity_copy)))\n",
    "            \n",
    "        else:\n",
    "          nominator = nominator + movie_similarity[s]*df.iloc[sim_movies[s],user_index]\n",
    "          \n",
    "      if len(movie_similarity_copy) > 0:\n",
    "        if sum(movie_similarity_copy) > 0:\n",
    "          predicted_r = nominator/sum(movie_similarity_copy)\n",
    "        \n",
    "        else:\n",
    "          predicted_r = 0\n",
    "\n",
    "      else:\n",
    "        predicted_r = 0\n",
    "        \n",
    "      rating2_copy.iloc[m,user_index] = predicted_r\n",
    "  recommend_movies(user,num_recommendation)"
   ]
  },
  {
   "cell_type": "code",
   "execution_count": 56,
   "metadata": {},
   "outputs": [
    {
     "name": "stdout",
     "output_type": "stream",
     "text": [
      "The list of the Movies 10 Has Watched \n",
      "\n",
      "0 DevOps Engineer\n",
      "520 Devops Engineer\n",
      "114 Python Developer\n",
      "185 Python developer\n",
      "\n",
      "\n",
      "The list of the Recommended Movies \n",
      "\n",
      "1:Job ID- 33 - Android Developer - predicted rating:2.0\n",
      "2:Job ID- 39 - Systems Administrator - predicted rating:2.0\n",
      "3:Job ID- 6 - Web Developer - predicted rating:2.0\n",
      "4:Job ID- 26 - .Net Developer - predicted rating:0.0\n",
      "5:Job ID- 7 - Business Analyst - predicted rating:0.0\n",
      "6:Job ID- 15 - Data Analyst - predicted rating:0.0\n",
      "7:Job ID- 57 - Data Architect - predicted rating:0.0\n",
      "8:Job ID- 20 - Data Scientist - predicted rating:0.0\n",
      "9:Job ID- 2 - Front End Developer - predicted rating:0.0\n",
      "10:Job ID- 177 - Senior Network Engineer - predicted rating:0.0\n"
     ]
    }
   ],
   "source": [
    "movie_recommender(10, 10, 10)"
   ]
  },
  {
   "cell_type": "markdown",
   "metadata": {},
   "source": [
    "## Rough Work"
   ]
  },
  {
   "cell_type": "code",
   "execution_count": 21,
   "metadata": {},
   "outputs": [
    {
     "data": {
      "text/plain": [
       "['job_title_0',\n",
       " 'job_title_1',\n",
       " 'job_title_2',\n",
       " 'job_title_3',\n",
       " 'job_title_4',\n",
       " 'job_title_5',\n",
       " 'job_title_6',\n",
       " 'job_title_7',\n",
       " 'job_title_8',\n",
       " 'job_title_9']"
      ]
     },
     "execution_count": 21,
     "metadata": {},
     "output_type": "execute_result"
    }
   ],
   "source": [
    "df.index.tolist()"
   ]
  },
  {
   "cell_type": "code",
   "execution_count": 20,
   "metadata": {},
   "outputs": [
    {
     "data": {
      "text/plain": [
       "0"
      ]
     },
     "execution_count": 20,
     "metadata": {},
     "output_type": "execute_result"
    }
   ],
   "source": [
    "df.index.tolist().index('job_title_0')"
   ]
  },
  {
   "cell_type": "code",
   "execution_count": 22,
   "metadata": {},
   "outputs": [
    {
     "data": {
      "text/plain": [
       "array([0, 7, 5])"
      ]
     },
     "execution_count": 22,
     "metadata": {},
     "output_type": "execute_result"
    }
   ],
   "source": [
    "indices[index_for_movie]"
   ]
  },
  {
   "cell_type": "code",
   "execution_count": 25,
   "metadata": {},
   "outputs": [
    {
     "data": {
      "text/plain": [
       "[(0, 'job_title_0'),\n",
       " (1, 'job_title_1'),\n",
       " (2, 'job_title_2'),\n",
       " (3, 'job_title_3'),\n",
       " (4, 'job_title_4'),\n",
       " (5, 'job_title_5'),\n",
       " (6, 'job_title_6'),\n",
       " (7, 'job_title_7'),\n",
       " (8, 'job_title_8'),\n",
       " (9, 'job_title_9')]"
      ]
     },
     "execution_count": 25,
     "metadata": {},
     "output_type": "execute_result"
    }
   ],
   "source": [
    "list(enumerate(df.index))"
   ]
  },
  {
   "cell_type": "code",
   "execution_count": 99,
   "metadata": {},
   "outputs": [],
   "source": [
    "ratings = pd.read_csv('dataset/user_rating_JD.csv', usecols=['userId','jobid','rating'])\n",
    "movies = pd.read_csv('dataset/jd_dataset.csv', usecols=['jobid','job_designation'])\n",
    "ratings2 = pd.merge(ratings, movies, how='inner', on='jobid')"
   ]
  },
  {
   "cell_type": "code",
   "execution_count": 100,
   "metadata": {},
   "outputs": [
    {
     "data": {
      "text/html": [
       "<div>\n",
       "<style scoped>\n",
       "    .dataframe tbody tr th:only-of-type {\n",
       "        vertical-align: middle;\n",
       "    }\n",
       "\n",
       "    .dataframe tbody tr th {\n",
       "        vertical-align: top;\n",
       "    }\n",
       "\n",
       "    .dataframe thead th {\n",
       "        text-align: right;\n",
       "    }\n",
       "</style>\n",
       "<table border=\"1\" class=\"dataframe\">\n",
       "  <thead>\n",
       "    <tr style=\"text-align: right;\">\n",
       "      <th></th>\n",
       "      <th>userId</th>\n",
       "      <th>jobid</th>\n",
       "      <th>rating</th>\n",
       "      <th>job_designation</th>\n",
       "    </tr>\n",
       "  </thead>\n",
       "  <tbody>\n",
       "    <tr>\n",
       "      <th>0</th>\n",
       "      <td>1</td>\n",
       "      <td>870</td>\n",
       "      <td>2.5</td>\n",
       "      <td>SEO Manager job description</td>\n",
       "    </tr>\n",
       "    <tr>\n",
       "      <th>1</th>\n",
       "      <td>4</td>\n",
       "      <td>870</td>\n",
       "      <td>3.0</td>\n",
       "      <td>SEO Manager job description</td>\n",
       "    </tr>\n",
       "    <tr>\n",
       "      <th>2</th>\n",
       "      <td>15</td>\n",
       "      <td>870</td>\n",
       "      <td>1.0</td>\n",
       "      <td>SEO Manager job description</td>\n",
       "    </tr>\n",
       "    <tr>\n",
       "      <th>3</th>\n",
       "      <td>15</td>\n",
       "      <td>870</td>\n",
       "      <td>1.5</td>\n",
       "      <td>SEO Manager job description</td>\n",
       "    </tr>\n",
       "    <tr>\n",
       "      <th>4</th>\n",
       "      <td>15</td>\n",
       "      <td>870</td>\n",
       "      <td>0.5</td>\n",
       "      <td>SEO Manager job description</td>\n",
       "    </tr>\n",
       "  </tbody>\n",
       "</table>\n",
       "</div>"
      ],
      "text/plain": [
       "   userId  jobid  rating              job_designation\n",
       "0       1    870     2.5  SEO Manager job description\n",
       "1       4    870     3.0  SEO Manager job description\n",
       "2      15    870     1.0  SEO Manager job description\n",
       "3      15    870     1.5  SEO Manager job description\n",
       "4      15    870     0.5  SEO Manager job description"
      ]
     },
     "execution_count": 100,
     "metadata": {},
     "output_type": "execute_result"
    }
   ],
   "source": [
    "ratings2.head()"
   ]
  },
  {
   "cell_type": "code",
   "execution_count": null,
   "metadata": {},
   "outputs": [],
   "source": []
  }
 ],
 "metadata": {
  "kernelspec": {
   "display_name": "Python 3.8.10 64-bit",
   "language": "python",
   "name": "python3"
  },
  "language_info": {
   "codemirror_mode": {
    "name": "ipython",
    "version": 3
   },
   "file_extension": ".py",
   "mimetype": "text/x-python",
   "name": "python",
   "nbconvert_exporter": "python",
   "pygments_lexer": "ipython3",
   "version": "3.8.10"
  },
  "orig_nbformat": 4,
  "vscode": {
   "interpreter": {
    "hash": "916dbcbb3f70747c44a77c7bcd40155683ae19c65e1c03b4aa3499c5328201f1"
   }
  }
 },
 "nbformat": 4,
 "nbformat_minor": 2
}
