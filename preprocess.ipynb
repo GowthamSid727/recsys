{
 "cells": [
  {
   "cell_type": "code",
   "execution_count": 2,
   "metadata": {
    "id": "w6GG8J9TYK0I"
   },
   "outputs": [],
   "source": [
    "import pandas as pd\n",
    "import numpy as np\n"
   ]
  },
  {
   "cell_type": "code",
   "execution_count": 3,
   "metadata": {
    "id": "Ok8lr9oQYVEn"
   },
   "outputs": [],
   "source": [
    "# Read data into papers\n",
    "\n",
    "papers = pd.read_csv('dataset/filtere_dice_jobs_dataset.csv')\n"
   ]
  },
  {
   "cell_type": "code",
   "execution_count": 4,
   "metadata": {
    "id": "Z-xAjKQiYjwd"
   },
   "outputs": [],
   "source": [
    "papers['fulldesc'] = ( papers.jobtitle +\" \"+papers.skills).astype(object)\n"
   ]
  },
  {
   "cell_type": "code",
   "execution_count": 5,
   "metadata": {
    "colab": {
     "base_uri": "https://localhost:8080/"
    },
    "id": "zrRHgktiYkdW",
    "outputId": "056f6058-ea73-4298-e6cd-3754460275dc"
   },
   "outputs": [
    {
     "data": {
      "text/plain": [
       "advertiserurl               object\n",
       "company                     object\n",
       "employmenttype_jobstatus    object\n",
       "jobdescription              object\n",
       "jobid                       object\n",
       "joblocation_address         object\n",
       "jobtitle                    object\n",
       "postdate                    object\n",
       "shift                       object\n",
       "site_name                   object\n",
       "skills                      object\n",
       "uniq_id                     object\n",
       "fulldesc                    object\n",
       "dtype: object"
      ]
     },
     "execution_count": 5,
     "metadata": {},
     "output_type": "execute_result"
    }
   ],
   "source": [
    "# Print head\n",
    "\n",
    "papers.dtypes"
   ]
  },
  {
   "cell_type": "code",
   "execution_count": 6,
   "metadata": {},
   "outputs": [
    {
     "data": {
      "text/plain": [
       "advertiserurl                  0\n",
       "company                        1\n",
       "employmenttype_jobstatus       5\n",
       "jobdescription                 0\n",
       "jobid                          0\n",
       "joblocation_address            0\n",
       "jobtitle                       0\n",
       "postdate                       0\n",
       "shift                         15\n",
       "site_name                   1296\n",
       "skills                         0\n",
       "uniq_id                        0\n",
       "fulldesc                       0\n",
       "dtype: int64"
      ]
     },
     "execution_count": 6,
     "metadata": {},
     "output_type": "execute_result"
    }
   ],
   "source": [
    "papers.isna().sum()"
   ]
  },
  {
   "cell_type": "code",
   "execution_count": 7,
   "metadata": {},
   "outputs": [],
   "source": [
    "papers['employmenttype_jobstatus'] = papers['employmenttype_jobstatus'].fillna('None')"
   ]
  },
  {
   "cell_type": "code",
   "execution_count": 19,
   "metadata": {
    "colab": {
     "base_uri": "https://localhost:8080/"
    },
    "id": "0YdjhxgheAJg",
    "outputId": "45e66f68-d87e-4a64-f7e0-e81abf8a99f0"
   },
   "outputs": [
    {
     "data": {
      "text/plain": [
       "1563"
      ]
     },
     "execution_count": 19,
     "metadata": {},
     "output_type": "execute_result"
    }
   ],
   "source": [
    "papers.shape"
   ]
  },
  {
   "cell_type": "code",
   "execution_count": 9,
   "metadata": {
    "colab": {
     "base_uri": "https://localhost:8080/"
    },
    "id": "6BCtrJ4lcLpd",
    "outputId": "377b2f0a-52ba-4f7f-df00-0875d3bfcbff"
   },
   "outputs": [
    {
     "data": {
      "text/plain": [
       "pandas.core.series.Series"
      ]
     },
     "execution_count": 9,
     "metadata": {},
     "output_type": "execute_result"
    }
   ],
   "source": [
    "type(papers['employmenttype_jobstatus'])"
   ]
  },
  {
   "cell_type": "code",
   "execution_count": 18,
   "metadata": {
    "colab": {
     "base_uri": "https://localhost:8080/"
    },
    "collapsed": true,
    "id": "d32d7RcTJ2ll",
    "outputId": "a2f17240-d87a-4c21-fbad-ba516d2d9092"
   },
   "outputs": [],
   "source": [
    "data = []\n",
    "data.append(papers['employmenttype_jobstatus'].values.tolist())\n",
    "res = []\n",
    "for i in range (0,papers.shape[0]):\n",
    "  res.append(data[0][i])\n"
   ]
  },
  {
   "cell_type": "code",
   "execution_count": 11,
   "metadata": {},
   "outputs": [],
   "source": [
    "def text_lowercase(text):\n",
    "    return text.lower()"
   ]
  },
  {
   "cell_type": "code",
   "execution_count": 12,
   "metadata": {},
   "outputs": [],
   "source": [
    "def remove_punctuation(text):\n",
    "    translator = str.maketrans('', '', string.punctuation)\n",
    "    return text.translate(translator)"
   ]
  },
  {
   "cell_type": "code",
   "execution_count": 13,
   "metadata": {},
   "outputs": [],
   "source": [
    "import string\n",
    "\n",
    "results = []\n",
    "for i in range(0,papers.shape[0]):\n",
    "    lower_punc = text_lowercase(res[i]).replace(',','')\n",
    "    results.append(lower_punc)"
   ]
  },
  {
   "cell_type": "code",
   "execution_count": 15,
   "metadata": {
    "colab": {
     "base_uri": "https://localhost:8080/"
    },
    "id": "K93dP0EGYZI_",
    "outputId": "d236e824-ffed-4962-fc97-9588a45b62f5"
   },
   "outputs": [],
   "source": [
    "# Print out the first rows of papers\n",
    "papers['paper_text_processed'] =  results"
   ]
  },
  {
   "cell_type": "code",
   "execution_count": 16,
   "metadata": {
    "id": "oW4Jllb9Iyj-"
   },
   "outputs": [
    {
     "data": {
      "text/plain": [
       "0                        full time\n",
       "1            full time direct hire\n",
       "2       full time direct placement\n",
       "3             contract w2 contract\n",
       "4             contract w2 contract\n",
       "                   ...            \n",
       "1558                 full time fte\n",
       "1559                     full time\n",
       "1560                     full time\n",
       "1561         contract w2 06 months\n",
       "1562                 full time fte\n",
       "Name: paper_text_processed, Length: 1563, dtype: object"
      ]
     },
     "execution_count": 16,
     "metadata": {},
     "output_type": "execute_result"
    }
   ],
   "source": [
    "papers['paper_text_processed']"
   ]
  },
  {
   "cell_type": "code",
   "execution_count": 17,
   "metadata": {
    "id": "XV5PdavqNlcW"
   },
   "outputs": [
    {
     "data": {
      "text/plain": [
       "1563"
      ]
     },
     "execution_count": 17,
     "metadata": {},
     "output_type": "execute_result"
    }
   ],
   "source": [
    "len(papers['paper_text_processed'])"
   ]
  },
  {
   "cell_type": "code",
   "execution_count": null,
   "metadata": {},
   "outputs": [],
   "source": []
  }
 ],
 "metadata": {
  "colab": {
   "provenance": []
  },
  "kernelspec": {
   "display_name": "Python 3.8.10 64-bit",
   "language": "python",
   "name": "python3"
  },
  "language_info": {
   "codemirror_mode": {
    "name": "ipython",
    "version": 3
   },
   "file_extension": ".py",
   "mimetype": "text/x-python",
   "name": "python",
   "nbconvert_exporter": "python",
   "pygments_lexer": "ipython3",
   "version": "3.8.10"
  },
  "vscode": {
   "interpreter": {
    "hash": "916dbcbb3f70747c44a77c7bcd40155683ae19c65e1c03b4aa3499c5328201f1"
   }
  }
 },
 "nbformat": 4,
 "nbformat_minor": 1
}
