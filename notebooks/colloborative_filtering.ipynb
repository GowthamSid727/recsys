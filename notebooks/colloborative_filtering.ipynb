{
 "cells": [
  {
   "cell_type": "code",
   "execution_count": 1,
   "metadata": {},
   "outputs": [],
   "source": [
    "import pandas as pd"
   ]
  },
  {
   "cell_type": "code",
   "execution_count": 2,
   "metadata": {},
   "outputs": [
    {
     "data": {
      "text/plain": [
       "(1563, 12)"
      ]
     },
     "execution_count": 2,
     "metadata": {},
     "output_type": "execute_result"
    }
   ],
   "source": [
    "df = pd.read_csv(\"./dataset/filtere_dice_jobs_dataset.csv\")\n",
    "df.shape"
   ]
  },
  {
   "cell_type": "code",
   "execution_count": 3,
   "metadata": {},
   "outputs": [
    {
     "data": {
      "text/plain": [
       "advertiserurl                  0\n",
       "company                        1\n",
       "employmenttype_jobstatus       5\n",
       "jobdescription                 0\n",
       "jobid                          0\n",
       "joblocation_address            0\n",
       "jobtitle                       0\n",
       "postdate                       0\n",
       "shift                         15\n",
       "site_name                   1296\n",
       "skills                         0\n",
       "uniq_id                        0\n",
       "dtype: int64"
      ]
     },
     "execution_count": 3,
     "metadata": {},
     "output_type": "execute_result"
    }
   ],
   "source": [
    "df.isna().sum()"
   ]
  },
  {
   "cell_type": "code",
   "execution_count": 4,
   "metadata": {},
   "outputs": [
    {
     "data": {
      "text/html": [
       "<div>\n",
       "<style scoped>\n",
       "    .dataframe tbody tr th:only-of-type {\n",
       "        vertical-align: middle;\n",
       "    }\n",
       "\n",
       "    .dataframe tbody tr th {\n",
       "        vertical-align: top;\n",
       "    }\n",
       "\n",
       "    .dataframe thead th {\n",
       "        text-align: right;\n",
       "    }\n",
       "</style>\n",
       "<table border=\"1\" class=\"dataframe\">\n",
       "  <thead>\n",
       "    <tr style=\"text-align: right;\">\n",
       "      <th></th>\n",
       "      <th>company</th>\n",
       "      <th>jobtitle</th>\n",
       "      <th>employmenttype_jobstatus</th>\n",
       "      <th>jobdescription</th>\n",
       "      <th>joblocation_address</th>\n",
       "      <th>skills</th>\n",
       "    </tr>\n",
       "  </thead>\n",
       "  <tbody>\n",
       "    <tr>\n",
       "      <th>0</th>\n",
       "      <td>Matrix Resources</td>\n",
       "      <td>DevOps Engineer</td>\n",
       "      <td>Full Time</td>\n",
       "      <td>Midtown based high tech firm has an immediate ...</td>\n",
       "      <td>Atlanta, GA</td>\n",
       "      <td>Configuration Management, Developer, Linux, Ma...</td>\n",
       "    </tr>\n",
       "    <tr>\n",
       "      <th>1</th>\n",
       "      <td>Noble1</td>\n",
       "      <td>Network Engineer</td>\n",
       "      <td>Full Time, Direct Hire</td>\n",
       "      <td>Network Engineer Job Description A Network Eng...</td>\n",
       "      <td>Atlanta, GA</td>\n",
       "      <td>Cisco, DNS, HTTP, Networking, Network Engineer...</td>\n",
       "    </tr>\n",
       "  </tbody>\n",
       "</table>\n",
       "</div>"
      ],
      "text/plain": [
       "            company          jobtitle employmenttype_jobstatus  \\\n",
       "0  Matrix Resources   DevOps Engineer                Full Time   \n",
       "1            Noble1  Network Engineer   Full Time, Direct Hire   \n",
       "\n",
       "                                      jobdescription joblocation_address  \\\n",
       "0  Midtown based high tech firm has an immediate ...         Atlanta, GA   \n",
       "1  Network Engineer Job Description A Network Eng...         Atlanta, GA   \n",
       "\n",
       "                                              skills  \n",
       "0  Configuration Management, Developer, Linux, Ma...  \n",
       "1  Cisco, DNS, HTTP, Networking, Network Engineer...  "
      ]
     },
     "execution_count": 4,
     "metadata": {},
     "output_type": "execute_result"
    }
   ],
   "source": [
    "df_required_data = df[[\"company\",\"jobtitle\",\"employmenttype_jobstatus\",\"jobdescription\",\"joblocation_address\",\"skills\"]]\n",
    "df_required_data.head(2)"
   ]
  },
  {
   "cell_type": "code",
   "execution_count": 5,
   "metadata": {},
   "outputs": [
    {
     "data": {
      "text/plain": [
       "company                     object\n",
       "jobtitle                    object\n",
       "employmenttype_jobstatus    object\n",
       "jobdescription              object\n",
       "joblocation_address         object\n",
       "skills                      object\n",
       "dtype: object"
      ]
     },
     "execution_count": 5,
     "metadata": {},
     "output_type": "execute_result"
    }
   ],
   "source": [
    "df_required_data.dtypes"
   ]
  },
  {
   "cell_type": "code",
   "execution_count": 6,
   "metadata": {},
   "outputs": [],
   "source": [
    "df_required_data = df_required_data.dropna(axis=0)"
   ]
  },
  {
   "cell_type": "code",
   "execution_count": 7,
   "metadata": {},
   "outputs": [
    {
     "data": {
      "text/plain": [
       "company                     0\n",
       "jobtitle                    0\n",
       "employmenttype_jobstatus    0\n",
       "jobdescription              0\n",
       "joblocation_address         0\n",
       "skills                      0\n",
       "dtype: int64"
      ]
     },
     "execution_count": 7,
     "metadata": {},
     "output_type": "execute_result"
    }
   ],
   "source": [
    "df_required_data.isna().sum()"
   ]
  },
  {
   "cell_type": "code",
   "execution_count": 8,
   "metadata": {},
   "outputs": [
    {
     "ename": "SyntaxError",
     "evalue": "positional argument follows keyword argument (1649361086.py, line 2)",
     "output_type": "error",
     "traceback": [
      "\u001b[0;36m  Input \u001b[0;32mIn [8]\u001b[0;36m\u001b[0m\n\u001b[0;31m    index='skills','jobtitle',\u001b[0m\n\u001b[0m                   ^\u001b[0m\n\u001b[0;31mSyntaxError\u001b[0m\u001b[0;31m:\u001b[0m positional argument follows keyword argument\n"
     ]
    }
   ],
   "source": [
    "customer_item_matrix = df_required_data.pivot_table(\n",
    "    index='skills','jobtitle', \n",
    "    columns='StockCode', \n",
    "    values='Quantity',\n",
    "    aggfunc='sum'\n",
    ")"
   ]
  },
  {
   "cell_type": "code",
   "execution_count": null,
   "metadata": {},
   "outputs": [],
   "source": []
  },
  {
   "cell_type": "code",
   "execution_count": null,
   "metadata": {},
   "outputs": [],
   "source": []
  }
 ],
 "metadata": {
  "kernelspec": {
   "display_name": "Python 3.8.10 64-bit",
   "language": "python",
   "name": "python3"
  },
  "language_info": {
   "codemirror_mode": {
    "name": "ipython",
    "version": 3
   },
   "file_extension": ".py",
   "mimetype": "text/x-python",
   "name": "python",
   "nbconvert_exporter": "python",
   "pygments_lexer": "ipython3",
   "version": "3.8.10"
  },
  "orig_nbformat": 4,
  "vscode": {
   "interpreter": {
    "hash": "916dbcbb3f70747c44a77c7bcd40155683ae19c65e1c03b4aa3499c5328201f1"
   }
  }
 },
 "nbformat": 4,
 "nbformat_minor": 2
}
