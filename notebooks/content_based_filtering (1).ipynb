{
  "cells": [
    {
      "cell_type": "markdown",
      "metadata": {
        "id": "RC8hJXYDuaHR"
      },
      "source": [
        "### DEMO\n",
        "\n"
      ]
    },
    {
      "cell_type": "code",
      "execution_count": 1,
      "metadata": {
        "ExecuteTime": {
          "end_time": "2021-09-19T11:54:16.372629Z",
          "start_time": "2021-09-19T11:54:13.851707Z"
        },
        "execution": {
          "iopub.execute_input": "2021-09-19T12:47:15.720374Z",
          "iopub.status.busy": "2021-09-19T12:47:15.720118Z",
          "iopub.status.idle": "2021-09-19T12:47:15.725744Z",
          "shell.execute_reply": "2021-09-19T12:47:15.724565Z",
          "shell.execute_reply.started": "2021-09-19T12:47:15.720345Z"
        },
        "id": "hVRe8wvUtFXh",
        "trusted": true
      },
      "outputs": [],
      "source": [
        "from sklearn.metrics.pairwise import cosine_similarity\n",
        "from sklearn.feature_extraction.text import TfidfVectorizer\n",
        "import pandas as pd"
      ]
    },
    {
      "cell_type": "code",
      "execution_count": 2,
      "metadata": {
        "ExecuteTime": {
          "end_time": "2021-09-19T11:54:17.144070Z",
          "start_time": "2021-09-19T11:54:16.375576Z"
        },
        "execution": {
          "iopub.execute_input": "2021-09-19T12:47:15.728097Z",
          "iopub.status.busy": "2021-09-19T12:47:15.727749Z",
          "iopub.status.idle": "2021-09-19T12:47:16.990243Z",
          "shell.execute_reply": "2021-09-19T12:47:16.989280Z",
          "shell.execute_reply.started": "2021-09-19T12:47:15.728056Z"
        },
        "id": "iwGCIw_xtFXi",
        "trusted": true
      },
      "outputs": [],
      "source": [
        "df = pd.read_csv('dataset/filtere_dice_jobs_dataset.csv', low_memory=False)"
      ]
    },
    {
      "cell_type": "code",
      "execution_count": 3,
      "metadata": {
        "ExecuteTime": {
          "end_time": "2021-09-19T11:54:17.189251Z",
          "start_time": "2021-09-19T11:54:17.147569Z"
        },
        "colab": {
          "base_uri": "https://localhost:8080/",
          "height": 177
        },
        "execution": {
          "iopub.execute_input": "2021-09-19T12:47:16.993149Z",
          "iopub.status.busy": "2021-09-19T12:47:16.992769Z",
          "iopub.status.idle": "2021-09-19T12:47:17.033272Z",
          "shell.execute_reply": "2021-09-19T12:47:17.032339Z",
          "shell.execute_reply.started": "2021-09-19T12:47:16.993106Z"
        },
        "id": "WdyH8ehxtFXj",
        "outputId": "a9a47f82-16cf-49cc-edb2-58b651780ee4",
        "trusted": true
      },
      "outputs": [
        {
          "data": {
            "text/html": [
              "<div>\n",
              "<style scoped>\n",
              "    .dataframe tbody tr th:only-of-type {\n",
              "        vertical-align: middle;\n",
              "    }\n",
              "\n",
              "    .dataframe tbody tr th {\n",
              "        vertical-align: top;\n",
              "    }\n",
              "\n",
              "    .dataframe thead th {\n",
              "        text-align: right;\n",
              "    }\n",
              "</style>\n",
              "<table border=\"1\" class=\"dataframe\">\n",
              "  <thead>\n",
              "    <tr style=\"text-align: right;\">\n",
              "      <th></th>\n",
              "      <th>advertiserurl</th>\n",
              "      <th>company</th>\n",
              "      <th>employmenttype_jobstatus</th>\n",
              "      <th>jobdescription</th>\n",
              "      <th>jobid</th>\n",
              "      <th>joblocation_address</th>\n",
              "      <th>jobtitle</th>\n",
              "      <th>postdate</th>\n",
              "      <th>shift</th>\n",
              "      <th>site_name</th>\n",
              "      <th>skills</th>\n",
              "      <th>uniq_id</th>\n",
              "    </tr>\n",
              "  </thead>\n",
              "  <tbody>\n",
              "    <tr>\n",
              "      <th>0</th>\n",
              "      <td>https://www.dice.com/jobs/detail/DevOps-Engine...</td>\n",
              "      <td>Matrix Resources</td>\n",
              "      <td>Full Time</td>\n",
              "      <td>Midtown based high tech firm has an immediate ...</td>\n",
              "      <td>Dice Id : matrixga</td>\n",
              "      <td>Atlanta, GA</td>\n",
              "      <td>DevOps Engineer</td>\n",
              "      <td>48 minutes ago</td>\n",
              "      <td>Telecommuting not available|Travel not required</td>\n",
              "      <td>NaN</td>\n",
              "      <td>Configuration Management, Developer, Linux, Ma...</td>\n",
              "      <td>45efa1f6bc65acc32bbbb953a1ed13b7</td>\n",
              "    </tr>\n",
              "  </tbody>\n",
              "</table>\n",
              "</div>"
            ],
            "text/plain": [
              "                                       advertiserurl           company  \\\n",
              "0  https://www.dice.com/jobs/detail/DevOps-Engine...  Matrix Resources   \n",
              "\n",
              "  employmenttype_jobstatus                                     jobdescription  \\\n",
              "0                Full Time  Midtown based high tech firm has an immediate ...   \n",
              "\n",
              "                jobid joblocation_address         jobtitle        postdate  \\\n",
              "0  Dice Id : matrixga         Atlanta, GA  DevOps Engineer  48 minutes ago   \n",
              "\n",
              "                                             shift site_name  \\\n",
              "0  Telecommuting not available|Travel not required       NaN   \n",
              "\n",
              "                                              skills  \\\n",
              "0  Configuration Management, Developer, Linux, Ma...   \n",
              "\n",
              "                            uniq_id  \n",
              "0  45efa1f6bc65acc32bbbb953a1ed13b7  "
            ]
          },
          "execution_count": 3,
          "metadata": {},
          "output_type": "execute_result"
        }
      ],
      "source": [
        "df.head(1)"
      ]
    },
    {
      "cell_type": "code",
      "execution_count": 4,
      "metadata": {
        "colab": {
          "base_uri": "https://localhost:8080/"
        },
        "id": "HIzM8v5YxRLL",
        "outputId": "e299fe85-86a9-453f-f803-f1491de7cf93"
      },
      "outputs": [
        {
          "data": {
            "text/plain": [
              "advertiserurl                  0\n",
              "company                        1\n",
              "employmenttype_jobstatus       5\n",
              "jobdescription                 0\n",
              "jobid                          0\n",
              "joblocation_address            0\n",
              "jobtitle                       0\n",
              "postdate                       0\n",
              "shift                         15\n",
              "site_name                   1296\n",
              "skills                         0\n",
              "uniq_id                        0\n",
              "dtype: int64"
            ]
          },
          "execution_count": 4,
          "metadata": {},
          "output_type": "execute_result"
        }
      ],
      "source": [
        "df.isna().sum()"
      ]
    },
    {
      "cell_type": "code",
      "execution_count": 5,
      "metadata": {
        "ExecuteTime": {
          "end_time": "2021-09-19T11:54:19.830256Z",
          "start_time": "2021-09-19T11:54:19.812024Z"
        },
        "execution": {
          "iopub.execute_input": "2021-09-19T12:47:17.076561Z",
          "iopub.status.busy": "2021-09-19T12:47:17.076289Z",
          "iopub.status.idle": "2021-09-19T12:47:17.098876Z",
          "shell.execute_reply": "2021-09-19T12:47:17.098118Z",
          "shell.execute_reply.started": "2021-09-19T12:47:17.076532Z"
        },
        "id": "uxCj0O3EtFXn",
        "trusted": true
      },
      "outputs": [],
      "source": [
        "# TEXT DATA PRE-PROCESSING\n",
        "\n",
        "import re\n",
        "\n",
        "def cleanResume(Text):\n",
        "    Text = re.sub('[%s]' % re.escape(\",:;/()\"), ' ', Text)  # remove punctuations\n",
        "    Text = Text.lower() # convert to lower case\n",
        "    return Text\n",
        "\n",
        "\n",
        "df['skills'] = df['skills'].apply(lambda x:cleanResume(x))"
      ]
    },
    {
      "cell_type": "code",
      "execution_count": 6,
      "metadata": {
        "ExecuteTime": {
          "end_time": "2021-09-19T12:10:17.530878Z",
          "start_time": "2021-09-19T12:10:17.511750Z"
        },
        "id": "LgGV0OOItFXp",
        "trusted": true
      },
      "outputs": [],
      "source": [
        "indices = pd.Series(df.index, index=df['skills'])#"
      ]
    },
    {
      "cell_type": "code",
      "execution_count": 7,
      "metadata": {
        "ExecuteTime": {
          "end_time": "2021-09-19T11:54:19.390866Z",
          "start_time": "2021-09-19T11:54:19.385591Z"
        },
        "execution": {
          "iopub.execute_input": "2021-09-19T12:47:17.064740Z",
          "iopub.status.busy": "2021-09-19T12:47:17.064485Z",
          "iopub.status.idle": "2021-09-19T12:47:17.074612Z",
          "shell.execute_reply": "2021-09-19T12:47:17.073482Z",
          "shell.execute_reply.started": "2021-09-19T12:47:17.064711Z"
        },
        "id": "hz0hkWMjtFXn",
        "trusted": true
      },
      "outputs": [],
      "source": [
        "tfidf = TfidfVectorizer(stop_words='english')\n",
        "\n",
        "tfidf_matrix = tfidf.fit_transform(df['skills'])\n",
        "\n",
        "d = tfidf_matrix.toarray()"
      ]
    },
    {
      "cell_type": "code",
      "execution_count": 8,
      "metadata": {
        "id": "dZSgXxepYjWj"
      },
      "outputs": [],
      "source": [
        "# import pandas as pd\n",
        "# from sklearn.feature_extraction.text import TfidfVectorizer\n",
        "# from nltk.corpus import stopwords\n",
        "# import nltk\n",
        "# nltk.download('stopwords')\n",
        "# # Create a list of English stopwords\n",
        "# stop_words = stopwords.words('english')\n",
        "\n",
        "# # Instantiate the class\n",
        "# vec = TfidfVectorizer(\n",
        "#     stop_words=stop_words, \n",
        "#     ngram_range=(2,2), # bigrams\n",
        "#     use_idf=True\n",
        "#     )\n",
        "\n",
        "# # Train the model and transform the data\n",
        "# tf_idf =  vec.fit_transform(df['skills'])\n",
        "\n",
        "# # Create a pandas DataFrame\n",
        "# df1 = pd.DataFrame(\n",
        "#     tf_idf.toarray(), \n",
        "#     columns=vec.get_feature_names(), \n",
        "#     index=df\n",
        "#     )\n",
        "\n",
        "\n",
        "# idf_df = pd.DataFrame(\n",
        "#     vec.idf_, \n",
        "#     index=vec.get_feature_names(),\n",
        "#     columns=['idf_weigths']\n",
        "#     )\n",
        "    \n",
        "# idf_df.sort_values(by=['idf_weigths']).head(10)"
      ]
    },
    {
      "cell_type": "code",
      "execution_count": 9,
      "metadata": {
        "ExecuteTime": {
          "end_time": "2021-09-19T11:57:01.905729Z",
          "start_time": "2021-09-19T11:54:28.277834Z"
        },
        "colab": {
          "base_uri": "https://localhost:8080/"
        },
        "execution": {
          "iopub.execute_input": "2021-09-19T12:47:20.324723Z",
          "iopub.status.busy": "2021-09-19T12:47:20.324508Z"
        },
        "id": "-ek-H92GtFXo",
        "outputId": "bedd5289-9dd9-4f5a-b8f1-aa6320ee9477",
        "trusted": true
      },
      "outputs": [
        {
          "data": {
            "text/plain": [
              "(1563, 1563)"
            ]
          },
          "execution_count": 9,
          "metadata": {},
          "output_type": "execute_result"
        }
      ],
      "source": [
        "# cosine similarity\n",
        "\n",
        "cosine_sim = cosine_similarity(tfidf_matrix, tfidf_matrix) \n",
        "\n",
        "cosine_sim.shape\n"
      ]
    },
    {
      "cell_type": "code",
      "execution_count": 11,
      "metadata": {
        "ExecuteTime": {
          "end_time": "2021-09-19T12:35:50.273172Z",
          "start_time": "2021-09-19T12:35:50.268583Z"
        },
        "colab": {
          "base_uri": "https://localhost:8080/"
        },
        "id": "Ghm-SCXqtFXr",
        "outputId": "f6c8429d-094e-4580-b5e0-44af164c1c63",
        "trusted": true
      },
      "outputs": [
        {
          "name": "stdout",
          "output_type": "stream",
          "text": [
            "skills\n",
            "algorithms  analysis  apache  case  css  data analysis  data mining  development  hadoop  html  http  java  management  matlab  nosql  programming  project  python  sql  use case      20\n",
            "data mining  predictive modeling  forecasting  sas  python                                                                                                                              50\n",
            "big data  bi  business intelligence  software engineer  computer science  hadoop  impala  spark  python  sql  cloud                                                                     65\n",
            "devops  infrastructure  puppet  chef  systems  engineer  it  software  development  perl  java  python  c  c#  c++  oracle  javascript  google  amazon  aws  google                     82\n",
            "java  tomcat  apache nginx  php  ruby  sql  mysql  nosql  php  python  json  perl and or ruby                                                                                          105\n",
            "                                                                                                                                                                                      ... \n",
            "devops  automation  python  ansible                                                                                                                                                   1519\n",
            "devops  cloud   java   j2ee  chef   puppet   python   perl   php                                                                                                                      1529\n",
            "go  python  javascript  continuous integration tools  linux unix                                                                                                                      1530\n",
            "expert in at least one language in java  c++  python and javascript                                                                                                                   1534\n",
            "python  histograms analytics                                                                                                                                                          1552\n",
            "Length: 94, dtype: int64\n",
            "python\n"
          ]
        },
        {
          "ename": "TypeError",
          "evalue": "'builtin_function_or_method' object is not subscriptable",
          "output_type": "error",
          "traceback": [
            "\u001b[0;31m---------------------------------------------------------------------------\u001b[0m",
            "\u001b[0;31mTypeError\u001b[0m                                 Traceback (most recent call last)",
            "\u001b[1;32m/home/sid/Optisol/Recommendation systems/content_based_filtering (1).ipynb Cell 11\u001b[0m in \u001b[0;36m<cell line: 28>\u001b[0;34m()\u001b[0m\n\u001b[1;32m     <a href='vscode-notebook-cell:/home/sid/Optisol/Recommendation%20systems/content_based_filtering%20%281%29.ipynb#X13sZmlsZQ%3D%3D?line=22'>23</a>\u001b[0m       score\u001b[39m.\u001b[39mappend(\u001b[39mid\u001b[39m[\u001b[39m0\u001b[39m][i])\n\u001b[1;32m     <a href='vscode-notebook-cell:/home/sid/Optisol/Recommendation%20systems/content_based_filtering%20%281%29.ipynb#X13sZmlsZQ%3D%3D?line=24'>25</a>\u001b[0m     \u001b[39mreturn\u001b[39;00m my_dict\n\u001b[0;32m---> <a href='vscode-notebook-cell:/home/sid/Optisol/Recommendation%20systems/content_based_filtering%20%281%29.ipynb#X13sZmlsZQ%3D%3D?line=27'>28</a>\u001b[0m get_recommended_movies(\u001b[39m'\u001b[39;49m\u001b[39mpython\u001b[39;49m\u001b[39m'\u001b[39;49m,cosine_sim,df)\n",
            "\u001b[1;32m/home/sid/Optisol/Recommendation systems/content_based_filtering (1).ipynb Cell 11\u001b[0m in \u001b[0;36mget_recommended_movies\u001b[0;34m(movie_index, movie_similarities, movies_df)\u001b[0m\n\u001b[1;32m     <a href='vscode-notebook-cell:/home/sid/Optisol/Recommendation%20systems/content_based_filtering%20%281%29.ipynb#X13sZmlsZQ%3D%3D?line=18'>19</a>\u001b[0m my_dict \u001b[39m=\u001b[39m {\u001b[39m\"\u001b[39m\u001b[39mskills\u001b[39m\u001b[39m\"\u001b[39m:result1,\u001b[39m\"\u001b[39m\u001b[39mscores\u001b[39m\u001b[39m\"\u001b[39m:result2}\n\u001b[1;32m     <a href='vscode-notebook-cell:/home/sid/Optisol/Recommendation%20systems/content_based_filtering%20%281%29.ipynb#X13sZmlsZQ%3D%3D?line=20'>21</a>\u001b[0m score\u001b[39m.\u001b[39mappend(result2\u001b[39m.\u001b[39mindex)\n\u001b[0;32m---> <a href='vscode-notebook-cell:/home/sid/Optisol/Recommendation%20systems/content_based_filtering%20%281%29.ipynb#X13sZmlsZQ%3D%3D?line=21'>22</a>\u001b[0m \u001b[39mfor\u001b[39;00m i \u001b[39min\u001b[39;00m \u001b[39mrange\u001b[39m(\u001b[39m1\u001b[39m,\u001b[39mlen\u001b[39m(\u001b[39mid\u001b[39;49m[\u001b[39m0\u001b[39;49m])):\n\u001b[1;32m     <a href='vscode-notebook-cell:/home/sid/Optisol/Recommendation%20systems/content_based_filtering%20%281%29.ipynb#X13sZmlsZQ%3D%3D?line=22'>23</a>\u001b[0m   score\u001b[39m.\u001b[39mappend(\u001b[39mid\u001b[39m[\u001b[39m0\u001b[39m][i])\n\u001b[1;32m     <a href='vscode-notebook-cell:/home/sid/Optisol/Recommendation%20systems/content_based_filtering%20%281%29.ipynb#X13sZmlsZQ%3D%3D?line=24'>25</a>\u001b[0m \u001b[39mreturn\u001b[39;00m my_dict\n",
            "\u001b[0;31mTypeError\u001b[0m: 'builtin_function_or_method' object is not subscriptable"
          ]
        }
      ],
      "source": [
        "def get_films_by_name(movie_name, movie_indices):\n",
        "    return movie_indices[movie_indices.index.str.contains(movie_name)]\n",
        "\n",
        "def get_recommended_movies(movie_index, movie_similarities,movies_df):\n",
        "    target_movie_index = get_films_by_name(movie_index,indices)\n",
        "    score = []\n",
        "    print(target_movie_index)\n",
        "    print(movie_index)\n",
        "\n",
        "\n",
        "    \n",
        "    similarity_scores = pd.DataFrame(movie_similarities[target_movie_index[0]], columns=[\"score\"])\n",
        "\n",
        "    movie_indices = similarity_scores.sort_values(\"score\", ascending=False)[0:10].index \n",
        "\n",
        "    result1 = df['skills'].iloc[movie_indices]\n",
        "    result2 = similarity_scores.iloc[movie_indices]\n",
        "\n",
        "    my_dict = {\"skills\":result1,\"scores\":result2}\n",
        "\n",
        "    score.append(result2.index)\n",
        "    for i in range(1,len(id[0])):\n",
        "      score.append(id[0][i])\n",
        "\n",
        "    return my_dict\n",
        "\n",
        "\n",
        "get_recommended_movies('python',cosine_sim,df) "
      ]
    },
    {
      "cell_type": "code",
      "execution_count": null,
      "metadata": {
        "colab": {
          "base_uri": "https://localhost:8080/"
        },
        "id": "lBn9p0h2fyZ4",
        "outputId": "788bfa56-8fa6-4de6-f96d-d749c8067506"
      },
      "outputs": [
        {
          "data": {
            "text/plain": [
              "array([0.06335968, 0.07632752, 0.04182962, ..., 0.04349804, 0.        ,\n",
              "       0.        ])"
            ]
          },
          "execution_count": 11,
          "metadata": {},
          "output_type": "execute_result"
        }
      ],
      "source": [
        "cosine_sim[20]"
      ]
    },
    {
      "cell_type": "code",
      "execution_count": null,
      "metadata": {
        "colab": {
          "base_uri": "https://localhost:8080/",
          "height": 918
        },
        "id": "qjak0XlE5uLF",
        "outputId": "25dad41c-988e-461a-ed3a-46ad2840972f"
      },
      "outputs": [
        {
          "data": {
            "image/png": "[encoded data removed]",
            "text/plain": [
              "<Figure size 1152x1152 with 1 Axes>"
            ]
          },
          "metadata": {
            "needs_background": "light"
          },
          "output_type": "display_data"
        }
      ],
      "source": [
        "import matplotlib.pyplot as plt\n",
        "df.jobtitle.value_counts(dropna=False).plot(kind=\"barh\", figsize=(16,16))\n",
        "plt.show()"
      ]
    },
    {
      "cell_type": "code",
      "execution_count": null,
      "metadata": {
        "id": "XfcfRoBeBrLF"
      },
      "outputs": [
        {
          "name": "stderr",
          "output_type": "stream",
          "text": [
            "2022-09-28 14:23:13.913386: W tensorflow/stream_executor/platform/default/dso_loader.cc:64] Could not load dynamic library 'libcudart.so.11.0'; dlerror: libcudart.so.11.0: cannot open shared object file: No such file or directory\n",
            "2022-09-28 14:23:13.913436: I tensorflow/stream_executor/cuda/cudart_stub.cc:29] Ignore above cudart dlerror if you do not have a GPU set up on your machine.\n",
            "2022-09-28 14:23:15.558053: W tensorflow/stream_executor/platform/default/dso_loader.cc:64] Could not load dynamic library 'libcuda.so.1'; dlerror: libcuda.so.1: cannot open shared object file: No such file or directory\n",
            "2022-09-28 14:23:15.558087: W tensorflow/stream_executor/cuda/cuda_driver.cc:269] failed call to cuInit: UNKNOWN ERROR (303)\n",
            "2022-09-28 14:23:15.558107: I tensorflow/stream_executor/cuda/cuda_diagnostics.cc:156] kernel driver does not appear to be running on this host (sid-ThinkPad-E14-Gen-2): /proc/driver/nvidia/version does not exist\n",
            "2022-09-28 14:23:15.558406: I tensorflow/core/platform/cpu_feature_guard.cc:151] This TensorFlow binary is optimized with oneAPI Deep Neural Network Library (oneDNN) to use the following CPU instructions in performance-critical operations:  AVX2 AVX512F FMA\n",
            "To enable them in other operations, rebuild TensorFlow with the appropriate compiler flags.\n"
          ]
        },
        {
          "ename": "AttributeError",
          "evalue": "'TopKV2' object has no attribute 'iloc'",
          "output_type": "error",
          "traceback": [
            "\u001b[0;31m---------------------------------------------------------------------------\u001b[0m",
            "\u001b[0;31mAttributeError\u001b[0m                            Traceback (most recent call last)",
            "\u001b[1;32m/home/sid/Optisol/Recommendation systems/content_based_filtering (1).ipynb Cell 14\u001b[0m in \u001b[0;36m<cell line: 53>\u001b[0;34m()\u001b[0m\n\u001b[1;32m     <a href='vscode-notebook-cell:/home/sid/Optisol/Recommendation%20systems/content_based_filtering%20%281%29.ipynb#X26sZmlsZQ%3D%3D?line=49'>50</a>\u001b[0m     \u001b[39m# print(array)\u001b[39;00m\n\u001b[1;32m     <a href='vscode-notebook-cell:/home/sid/Optisol/Recommendation%20systems/content_based_filtering%20%281%29.ipynb#X26sZmlsZQ%3D%3D?line=50'>51</a>\u001b[0m     \u001b[39mreturn\u001b[39;00m df[\u001b[39m'\u001b[39m\u001b[39mskills\u001b[39m\u001b[39m'\u001b[39m]\u001b[39m.\u001b[39miloc[array[\u001b[39m0\u001b[39m]], sort_data\u001b[39m.\u001b[39miloc[array[\u001b[39m0\u001b[39m]]\n\u001b[0;32m---> <a href='vscode-notebook-cell:/home/sid/Optisol/Recommendation%20systems/content_based_filtering%20%281%29.ipynb#X26sZmlsZQ%3D%3D?line=52'>53</a>\u001b[0m get_recommended_movies(\u001b[39m'\u001b[39;49m\u001b[39mcisco\u001b[39;49m\u001b[39m'\u001b[39;49m,df)\n",
            "\u001b[1;32m/home/sid/Optisol/Recommendation systems/content_based_filtering (1).ipynb Cell 14\u001b[0m in \u001b[0;36mget_recommended_movies\u001b[0;34m(movie_index, movies_df)\u001b[0m\n\u001b[1;32m     <a href='vscode-notebook-cell:/home/sid/Optisol/Recommendation%20systems/content_based_filtering%20%281%29.ipynb#X26sZmlsZQ%3D%3D?line=48'>49</a>\u001b[0m array \u001b[39m=\u001b[39mnp\u001b[39m.\u001b[39marray(sort_data\u001b[39m.\u001b[39mindices)\n\u001b[1;32m     <a href='vscode-notebook-cell:/home/sid/Optisol/Recommendation%20systems/content_based_filtering%20%281%29.ipynb#X26sZmlsZQ%3D%3D?line=49'>50</a>\u001b[0m \u001b[39m# print(array)\u001b[39;00m\n\u001b[0;32m---> <a href='vscode-notebook-cell:/home/sid/Optisol/Recommendation%20systems/content_based_filtering%20%281%29.ipynb#X26sZmlsZQ%3D%3D?line=50'>51</a>\u001b[0m \u001b[39mreturn\u001b[39;00m df[\u001b[39m'\u001b[39m\u001b[39mskills\u001b[39m\u001b[39m'\u001b[39m]\u001b[39m.\u001b[39miloc[array[\u001b[39m0\u001b[39m]], sort_data\u001b[39m.\u001b[39;49miloc[array[\u001b[39m0\u001b[39m]]\n",
            "\u001b[0;31mAttributeError\u001b[0m: 'TopKV2' object has no attribute 'iloc'"
          ]
        }
      ],
      "source": [
        "import tensorflow as tf\n",
        "\n",
        "\n",
        "import numpy as np\n",
        "\n",
        "def get_films_by_name(movie_name, movie_indices):\n",
        "    return movie_indices[movie_indices.index.str.contains(movie_name)]\n",
        "\n",
        "\n",
        "indices = pd.Series(df.index, index=df['skills'])#\n",
        "\n",
        "\n",
        "def get_recommended_movies(movie_index,movies_df):\n",
        "\n",
        "    tfidf = TfidfVectorizer()\n",
        "    tfidf_matrix = tfidf.fit_transform(df['skills'])\n",
        "    cosine_sim = cosine_similarity(tfidf_matrix, tfidf_matrix) \n",
        "\n",
        "    target_movie_index = get_films_by_name(movie_index,indices)\n",
        "\n",
        "    # scores = cosine_sim[target_movie_index]\n",
        "\n",
        "    \n",
        "    data = []\n",
        "    for i in range(0, len(target_movie_index)):\n",
        "      scores = cosine_sim[target_movie_index]\n",
        "    data.append(scores)\n",
        "   \n",
        "    score_list = []\n",
        "    for i in range (0,len(data[0])):\n",
        "      score_list.append(data[0][i])\n",
        "\n",
        "    # sort_data = tf.nn.top_k(score_list, k=10, sorted=True, name=None)\n",
        "    # array =np.array(sort_data.indices)\n",
        "\n",
        "\n",
        "    # a = array[0:10]\n",
        "\n",
        "    # d = np.argmax(a)\n",
        "\n",
        "    similarity_scores = pd.DataFrame(scores)\n",
        "    # print(similarity_scores)\n",
        "    # movie_indices = similarity_scores.sort_values(similarity_scores.columns, ascending=False)[0:11].index \n",
        "\n",
        "    movie_indices = similarity_scores[0:10]\n",
        "    # print(movie_indices)\n",
        "\n",
        "    sort_data = tf.nn.top_k(movie_indices, k=10, sorted=True, name=None)\n",
        "    array =np.array(sort_data.indices)\n",
        "    # print(array)\n",
        "    return df['skills'].iloc[array[0]], sort_data.iloc[array[0]]\n",
        "\n",
        "get_recommended_movies('cisco',df)"
      ]
    },
    {
      "cell_type": "code",
      "execution_count": null,
      "metadata": {
        "ExecuteTime": {
          "end_time": "2021-09-19T12:37:59.540236Z",
          "start_time": "2021-09-19T12:37:59.534280Z"
        },
        "id": "-h1agM7mtFXr",
        "trusted": true
      },
      "outputs": [],
      "source": [
        "def get_recommended_movies(movie_index, movie_similarities,movies_df):\n",
        "    target_movie_index = indices[movie_index]\n",
        "    print(target_movie_index)\n",
        "\n",
        "    similarity_scores = pd.DataFrame(movie_similarities[target_movie_index[1]], columns=[\"score\"])\n",
        "\n",
        "    movie_indices = similarity_scores.sort_values(\"score\", ascending=False)[0:10].index \n",
        "\n",
        "    dict = {}\n",
        "\n",
        "    result = df['skills'].iloc[movie_indices]\n",
        "\n",
        "    return df['skills'].iloc[movie_indices], similarity_scores.iloc[movie_indices]"
      ]
    },
    {
      "cell_type": "code",
      "execution_count": null,
      "metadata": {
        "ExecuteTime": {
          "end_time": "2021-09-19T12:38:41.006448Z",
          "start_time": "2021-09-19T12:38:40.994424Z"
        },
        "colab": {
          "base_uri": "https://localhost:8080/",
          "height": 432
        },
        "id": "uMa3GKS1tFXr",
        "outputId": "f147aad5-db6b-4cfb-b009-69b6f221b3c7",
        "trusted": true
      },
      "outputs": [
        {
          "ename": "KeyError",
          "evalue": "ignored",
          "output_type": "error",
          "traceback": [
            "\u001b[0;31m---------------------------------------------------------------------------\u001b[0m",
            "\u001b[0;31mKeyError\u001b[0m                                  Traceback (most recent call last)",
            "\u001b[0;32m/usr/local/lib/python3.7/dist-packages/pandas/core/indexes/base.py\u001b[0m in \u001b[0;36mget_loc\u001b[0;34m(self, key, method, tolerance)\u001b[0m\n\u001b[1;32m   3360\u001b[0m             \u001b[0;32mtry\u001b[0m\u001b[0;34m:\u001b[0m\u001b[0;34m\u001b[0m\u001b[0;34m\u001b[0m\u001b[0m\n\u001b[0;32m-> 3361\u001b[0;31m                 \u001b[0;32mreturn\u001b[0m \u001b[0mself\u001b[0m\u001b[0;34m.\u001b[0m\u001b[0m_engine\u001b[0m\u001b[0;34m.\u001b[0m\u001b[0mget_loc\u001b[0m\u001b[0;34m(\u001b[0m\u001b[0mcasted_key\u001b[0m\u001b[0;34m)\u001b[0m\u001b[0;34m\u001b[0m\u001b[0;34m\u001b[0m\u001b[0m\n\u001b[0m\u001b[1;32m   3362\u001b[0m             \u001b[0;32mexcept\u001b[0m \u001b[0mKeyError\u001b[0m \u001b[0;32mas\u001b[0m \u001b[0merr\u001b[0m\u001b[0;34m:\u001b[0m\u001b[0;34m\u001b[0m\u001b[0;34m\u001b[0m\u001b[0m\n",
            "\u001b[0;32m/usr/local/lib/python3.7/dist-packages/pandas/_libs/index.pyx\u001b[0m in \u001b[0;36mpandas._libs.index.IndexEngine.get_loc\u001b[0;34m()\u001b[0m\n",
            "\u001b[0;32m/usr/local/lib/python3.7/dist-packages/pandas/_libs/index.pyx\u001b[0m in \u001b[0;36mpandas._libs.index.IndexEngine.get_loc\u001b[0;34m()\u001b[0m\n",
            "\u001b[0;32m/usr/local/lib/python3.7/dist-packages/pandas/_libs/index.pyx\u001b[0m in \u001b[0;36mpandas._libs.index.IndexEngine._get_loc_duplicates\u001b[0;34m()\u001b[0m\n",
            "\u001b[0;32m/usr/local/lib/python3.7/dist-packages/pandas/_libs/index.pyx\u001b[0m in \u001b[0;36mpandas._libs.index.IndexEngine._maybe_get_bool_indexer\u001b[0;34m()\u001b[0m\n",
            "\u001b[0;32m/usr/local/lib/python3.7/dist-packages/pandas/_libs/index.pyx\u001b[0m in \u001b[0;36mpandas._libs.index.IndexEngine._unpack_bool_indexer\u001b[0;34m()\u001b[0m\n",
            "\u001b[0;31mKeyError\u001b[0m: 'oracle'",
            "\nThe above exception was the direct cause of the following exception:\n",
            "\u001b[0;31mKeyError\u001b[0m                                  Traceback (most recent call last)",
            "\u001b[0;32m<ipython-input-649-c70b915fbf80>\u001b[0m in \u001b[0;36m<module>\u001b[0;34m\u001b[0m\n\u001b[0;32m----> 1\u001b[0;31m \u001b[0mget_recommended_movies\u001b[0m\u001b[0;34m(\u001b[0m\u001b[0;34m'oracle'\u001b[0m\u001b[0;34m,\u001b[0m\u001b[0mcosine_sim\u001b[0m\u001b[0;34m,\u001b[0m\u001b[0mdf\u001b[0m\u001b[0;34m)\u001b[0m\u001b[0;34m\u001b[0m\u001b[0;34m\u001b[0m\u001b[0m\n\u001b[0m",
            "\u001b[0;32m<ipython-input-648-9c7d05be891f>\u001b[0m in \u001b[0;36mget_recommended_movies\u001b[0;34m(movie_index, movie_similarities, movies_df)\u001b[0m\n\u001b[1;32m      1\u001b[0m \u001b[0;32mdef\u001b[0m \u001b[0mget_recommended_movies\u001b[0m\u001b[0;34m(\u001b[0m\u001b[0mmovie_index\u001b[0m\u001b[0;34m,\u001b[0m \u001b[0mmovie_similarities\u001b[0m\u001b[0;34m,\u001b[0m\u001b[0mmovies_df\u001b[0m\u001b[0;34m)\u001b[0m\u001b[0;34m:\u001b[0m\u001b[0;34m\u001b[0m\u001b[0;34m\u001b[0m\u001b[0m\n\u001b[0;32m----> 2\u001b[0;31m     \u001b[0mtarget_movie_index\u001b[0m \u001b[0;34m=\u001b[0m \u001b[0mindices\u001b[0m\u001b[0;34m[\u001b[0m\u001b[0mmovie_index\u001b[0m\u001b[0;34m]\u001b[0m\u001b[0;34m\u001b[0m\u001b[0;34m\u001b[0m\u001b[0m\n\u001b[0m\u001b[1;32m      3\u001b[0m     \u001b[0mprint\u001b[0m\u001b[0;34m(\u001b[0m\u001b[0mtarget_movie_index\u001b[0m\u001b[0;34m)\u001b[0m\u001b[0;34m\u001b[0m\u001b[0;34m\u001b[0m\u001b[0m\n\u001b[1;32m      4\u001b[0m \u001b[0;34m\u001b[0m\u001b[0m\n\u001b[1;32m      5\u001b[0m     \u001b[0msimilarity_scores\u001b[0m \u001b[0;34m=\u001b[0m \u001b[0mpd\u001b[0m\u001b[0;34m.\u001b[0m\u001b[0mDataFrame\u001b[0m\u001b[0;34m(\u001b[0m\u001b[0mmovie_similarities\u001b[0m\u001b[0;34m[\u001b[0m\u001b[0mtarget_movie_index\u001b[0m\u001b[0;34m[\u001b[0m\u001b[0;36m1\u001b[0m\u001b[0;34m]\u001b[0m\u001b[0;34m]\u001b[0m\u001b[0;34m,\u001b[0m \u001b[0mcolumns\u001b[0m\u001b[0;34m=\u001b[0m\u001b[0;34m[\u001b[0m\u001b[0;34m\"score\"\u001b[0m\u001b[0;34m]\u001b[0m\u001b[0;34m)\u001b[0m\u001b[0;34m\u001b[0m\u001b[0;34m\u001b[0m\u001b[0m\n",
            "\u001b[0;32m/usr/local/lib/python3.7/dist-packages/pandas/core/series.py\u001b[0m in \u001b[0;36m__getitem__\u001b[0;34m(self, key)\u001b[0m\n\u001b[1;32m    940\u001b[0m \u001b[0;34m\u001b[0m\u001b[0m\n\u001b[1;32m    941\u001b[0m         \u001b[0;32melif\u001b[0m \u001b[0mkey_is_scalar\u001b[0m\u001b[0;34m:\u001b[0m\u001b[0;34m\u001b[0m\u001b[0;34m\u001b[0m\u001b[0m\n\u001b[0;32m--> 942\u001b[0;31m             \u001b[0;32mreturn\u001b[0m \u001b[0mself\u001b[0m\u001b[0;34m.\u001b[0m\u001b[0m_get_value\u001b[0m\u001b[0;34m(\u001b[0m\u001b[0mkey\u001b[0m\u001b[0;34m)\u001b[0m\u001b[0;34m\u001b[0m\u001b[0;34m\u001b[0m\u001b[0m\n\u001b[0m\u001b[1;32m    943\u001b[0m \u001b[0;34m\u001b[0m\u001b[0m\n\u001b[1;32m    944\u001b[0m         \u001b[0;32mif\u001b[0m \u001b[0mis_hashable\u001b[0m\u001b[0;34m(\u001b[0m\u001b[0mkey\u001b[0m\u001b[0;34m)\u001b[0m\u001b[0;34m:\u001b[0m\u001b[0;34m\u001b[0m\u001b[0;34m\u001b[0m\u001b[0m\n",
            "\u001b[0;32m/usr/local/lib/python3.7/dist-packages/pandas/core/series.py\u001b[0m in \u001b[0;36m_get_value\u001b[0;34m(self, label, takeable)\u001b[0m\n\u001b[1;32m   1049\u001b[0m \u001b[0;34m\u001b[0m\u001b[0m\n\u001b[1;32m   1050\u001b[0m         \u001b[0;31m# Similar to Index.get_value, but we do not fall back to positional\u001b[0m\u001b[0;34m\u001b[0m\u001b[0;34m\u001b[0m\u001b[0;34m\u001b[0m\u001b[0m\n\u001b[0;32m-> 1051\u001b[0;31m         \u001b[0mloc\u001b[0m \u001b[0;34m=\u001b[0m \u001b[0mself\u001b[0m\u001b[0;34m.\u001b[0m\u001b[0mindex\u001b[0m\u001b[0;34m.\u001b[0m\u001b[0mget_loc\u001b[0m\u001b[0;34m(\u001b[0m\u001b[0mlabel\u001b[0m\u001b[0;34m)\u001b[0m\u001b[0;34m\u001b[0m\u001b[0;34m\u001b[0m\u001b[0m\n\u001b[0m\u001b[1;32m   1052\u001b[0m         \u001b[0;32mreturn\u001b[0m \u001b[0mself\u001b[0m\u001b[0;34m.\u001b[0m\u001b[0mindex\u001b[0m\u001b[0;34m.\u001b[0m\u001b[0m_get_values_for_loc\u001b[0m\u001b[0;34m(\u001b[0m\u001b[0mself\u001b[0m\u001b[0;34m,\u001b[0m \u001b[0mloc\u001b[0m\u001b[0;34m,\u001b[0m \u001b[0mlabel\u001b[0m\u001b[0;34m)\u001b[0m\u001b[0;34m\u001b[0m\u001b[0;34m\u001b[0m\u001b[0m\n\u001b[1;32m   1053\u001b[0m \u001b[0;34m\u001b[0m\u001b[0m\n",
            "\u001b[0;32m/usr/local/lib/python3.7/dist-packages/pandas/core/indexes/base.py\u001b[0m in \u001b[0;36mget_loc\u001b[0;34m(self, key, method, tolerance)\u001b[0m\n\u001b[1;32m   3361\u001b[0m                 \u001b[0;32mreturn\u001b[0m \u001b[0mself\u001b[0m\u001b[0;34m.\u001b[0m\u001b[0m_engine\u001b[0m\u001b[0;34m.\u001b[0m\u001b[0mget_loc\u001b[0m\u001b[0;34m(\u001b[0m\u001b[0mcasted_key\u001b[0m\u001b[0;34m)\u001b[0m\u001b[0;34m\u001b[0m\u001b[0;34m\u001b[0m\u001b[0m\n\u001b[1;32m   3362\u001b[0m             \u001b[0;32mexcept\u001b[0m \u001b[0mKeyError\u001b[0m \u001b[0;32mas\u001b[0m \u001b[0merr\u001b[0m\u001b[0;34m:\u001b[0m\u001b[0;34m\u001b[0m\u001b[0;34m\u001b[0m\u001b[0m\n\u001b[0;32m-> 3363\u001b[0;31m                 \u001b[0;32mraise\u001b[0m \u001b[0mKeyError\u001b[0m\u001b[0;34m(\u001b[0m\u001b[0mkey\u001b[0m\u001b[0;34m)\u001b[0m \u001b[0;32mfrom\u001b[0m \u001b[0merr\u001b[0m\u001b[0;34m\u001b[0m\u001b[0;34m\u001b[0m\u001b[0m\n\u001b[0m\u001b[1;32m   3364\u001b[0m \u001b[0;34m\u001b[0m\u001b[0m\n\u001b[1;32m   3365\u001b[0m         \u001b[0;32mif\u001b[0m \u001b[0mis_scalar\u001b[0m\u001b[0;34m(\u001b[0m\u001b[0mkey\u001b[0m\u001b[0;34m)\u001b[0m \u001b[0;32mand\u001b[0m \u001b[0misna\u001b[0m\u001b[0;34m(\u001b[0m\u001b[0mkey\u001b[0m\u001b[0;34m)\u001b[0m \u001b[0;32mand\u001b[0m \u001b[0;32mnot\u001b[0m \u001b[0mself\u001b[0m\u001b[0;34m.\u001b[0m\u001b[0mhasnans\u001b[0m\u001b[0;34m:\u001b[0m\u001b[0;34m\u001b[0m\u001b[0;34m\u001b[0m\u001b[0m\n",
            "\u001b[0;31mKeyError\u001b[0m: 'oracle'"
          ]
        }
      ],
      "source": [
        "get_recommended_movies('data science',cosine_sim,df) "
      ]
    },
    {
      "cell_type": "code",
      "execution_count": null,
      "metadata": {
        "colab": {
          "base_uri": "https://localhost:8080/"
        },
        "id": "i78E_c6AuTcz",
        "outputId": "eeca4a34-2af4-4f98-d74a-93cf9b396a77"
      },
      "outputs": [
        {
          "data": {
            "text/plain": [
              "{'skills': 6                           html  javascript  css  ajax\n",
              " 1050                javascript  ajax  jquery  html  css\n",
              " 384                               javascript  html  css\n",
              " 941                               html  css  javascript\n",
              " 1362                              javascript  html  css\n",
              " 914                               html  css  javascript\n",
              " 346                         java  javascript  html  css\n",
              " 340                         java  javascript  html  css\n",
              " 1029    .net  asp.net  javascript  html  css  sql  ajax\n",
              " 361                                       html  css  c#\n",
              " Name: skills, dtype: object,\n",
              " 'scores':          score\n",
              " 6     1.000000\n",
              " 1050  0.884706\n",
              " 384   0.800266\n",
              " 941   0.800266\n",
              " 1362  0.800266\n",
              " 914   0.800266\n",
              " 346   0.742226\n",
              " 340   0.742226\n",
              " 1029  0.698774\n",
              " 361   0.692633}"
            ]
          },
          "execution_count": 15,
          "metadata": {},
          "output_type": "execute_result"
        }
      ],
      "source": [
        "def get_recommended_movies(movie_index, movie_similarities,movies_df):\n",
        "    # target_movie_index = indices[movie_index]\n",
        "    target_movie_index = get_films_by_name(movie_index,indices)\n",
        "\n",
        "    similarity_scores = pd.DataFrame(movie_similarities[target_movie_index[0]], columns=[\"score\"])\n",
        "    movie_indices = similarity_scores.sort_values(\"score\", ascending=False)[0:10].index \n",
        "\n",
        "    result1 = df['skills'].iloc[movie_indices]\n",
        "    result2 = similarity_scores.iloc[movie_indices]\n",
        "\n",
        "    my_dict = {\"skills\":result1,\"scores\":result2}\n",
        "\n",
        "    return my_dict\n",
        "\n",
        "\n",
        "get_recommended_movies('css',cosine_sim,df) "
      ]
    },
    {
      "cell_type": "code",
      "execution_count": null,
      "metadata": {
        "colab": {
          "base_uri": "https://localhost:8080/"
        },
        "id": "9bYGDfcD5yIc",
        "outputId": "9f052a71-3ea0-4caa-922e-a0e10bcbb220"
      },
      "outputs": [],
      "source": []
    },
    {
      "cell_type": "code",
      "execution_count": null,
      "metadata": {
        "id": "tH_Fw5fG5yFW"
      },
      "outputs": [],
      "source": []
    },
    {
      "cell_type": "code",
      "execution_count": null,
      "metadata": {
        "colab": {
          "base_uri": "https://localhost:8080/"
        },
        "id": "DSDlwlfD5z-X",
        "outputId": "49cb8343-40b7-4216-f783-dd23ba17623d"
      },
      "outputs": [
        {
          "name": "stdout",
          "output_type": "stream",
          "text": [
            "TopKV2(values=<tf.Tensor: shape=(109, 10), dtype=float64, numpy=\n",
            "array([[1.        , 0.58250818, 0.35497864, ..., 0.33110806, 0.31386548,\n",
            "        0.31047267],\n",
            "       [1.        , 0.37258242, 0.37094736, ..., 0.21356114, 0.21163886,\n",
            "        0.20140682],\n",
            "       [1.        , 0.52757888, 0.37127404, ..., 0.32211511, 0.32211511,\n",
            "        0.32211511],\n",
            "       ...,\n",
            "       [1.        , 0.35899284, 0.34273281, ..., 0.24602745, 0.23996708,\n",
            "        0.23688873],\n",
            "       [1.        , 0.42015771, 0.35859105, ..., 0.31045102, 0.30670317,\n",
            "        0.29872656],\n",
            "       [1.        , 0.48446364, 0.43204283, ..., 0.39521464, 0.38889482,\n",
            "        0.38889482]])>, indices=<tf.Tensor: shape=(109, 10), dtype=int32, numpy=\n",
            "array([[  24,  146,  648, ...,  372,  772,  558],\n",
            "       [  29,  746,  458, ...,  220,  240,  819],\n",
            "       [  30,  714,  648, ...,  159,  241,  314],\n",
            "       ...,\n",
            "       [1482,  378,  343, ...,  250, 1178,  432],\n",
            "       [1491, 1223,  558, ..., 1188,  832, 1041],\n",
            "       [1518,  361, 1275, ...,  558,  340,  346]], dtype=int32)>)\n"
          ]
        },
        {
          "data": {
            "text/plain": [
              "29            agile  pmp knowledge health care experience\n",
              "746                    project management experience  pmp\n",
              "458                                                   pmp\n",
              "1546     project manager  pmp  healthcare  kaiser  health\n",
              "832                       agile  pmp  rally  applications\n",
              "1106                                 project manager  pmp\n",
              "1130                                 pmp  project manager\n",
              "220     strong knowledge of the .net framework  c# pro...\n",
              "240     web technology programming skills on microsoft...\n",
              "819                                              pmp  gmp\n",
              "Name: skills, dtype: object"
            ]
          },
          "execution_count": 16,
          "metadata": {},
          "output_type": "execute_result"
        }
      ],
      "source": [
        "import tensorflow as tf\n",
        "import numpy as np\n",
        "\n",
        "def get_films_by_name(movie_name, movie_indices):\n",
        "    return movie_indices[movie_indices.index.str.contains(movie_name)]\n",
        "\n",
        "\n",
        "indices = pd.Series(df.index, index=df['skills'])#\n",
        "\n",
        "\n",
        "def get_recommended_movies(movie_index,movies_df):\n",
        "\n",
        "    tfidf = TfidfVectorizer()\n",
        "    tfidf_matrix = tfidf.fit_transform(df['skills'])\n",
        "    cosine_sim = cosine_similarity(tfidf_matrix, tfidf_matrix) \n",
        "\n",
        "    target_movie_index = get_films_by_name(movie_index,indices)\n",
        "\n",
        "\n",
        "    data = []\n",
        "    for i in range(0, len(target_movie_index)):\n",
        "      scores = cosine_sim[target_movie_index]\n",
        "    data.append(scores)\n",
        "   \n",
        "    score_list = []\n",
        "    for i in range (0,len(data[0])):\n",
        "      score_list.append(data[0][i])\n",
        "\n",
        "\n",
        "    similarity_scores = pd.DataFrame(scores)\n",
        "\n",
        "    # movie_indices = similarity_scores[0:10]\n",
        "\n",
        "    sort_data = tf.nn.top_k(similarity_scores, k=10, sorted=True, name=None)\n",
        "    print(sort_data)\n",
        "    array =np.array(sort_data.indices)\n",
        "\n",
        "    return df['skills'].iloc[array[1]]\n",
        "\n",
        "get_recommended_movies('agile',df)"
      ]
    },
    {
      "cell_type": "code",
      "execution_count": null,
      "metadata": {
        "colab": {
          "base_uri": "https://localhost:8080/",
          "height": 35
        },
        "id": "TFwGUc1qz0Vn",
        "outputId": "a20a7318-320f-446b-a30c-90ec8e7b31d4"
      },
      "outputs": [
        {
          "data": {
            "text/plain": [
              "'consulting  http  inquire  network engineer  vpn  wan'"
            ]
          },
          "execution_count": 17,
          "metadata": {},
          "output_type": "execute_result"
        }
      ],
      "source": [
        "df['skills'][146]"
      ]
    },
    {
      "cell_type": "markdown",
      "metadata": {
        "id": "Nd9kuIMmhQKl"
      },
      "source": [
        "### Rough Work\n"
      ]
    },
    {
      "cell_type": "code",
      "execution_count": null,
      "metadata": {
        "id": "IBoj5s0Lizyo"
      },
      "outputs": [],
      "source": [
        "data = pd.DataFrame(df.skills)"
      ]
    },
    {
      "cell_type": "code",
      "execution_count": null,
      "metadata": {
        "id": "HL_SiHDkizwi"
      },
      "outputs": [],
      "source": [
        "skillls = [' including .net tuning integration analysis sql writing code extraction systems and c# etc. loading oracle python my transformation database etl tools data query synchronization']\n",
        "\n",
        "#append list to DataFrame\n",
        "data.loc[len(data)] = skillls"
      ]
    },
    {
      "cell_type": "code",
      "execution_count": null,
      "metadata": {
        "colab": {
          "base_uri": "https://localhost:8080/",
          "height": 36
        },
        "id": "UGsFlEWWj65u",
        "outputId": "5a936496-1879-4b3d-e727-2cffc4eee5ea"
      },
      "outputs": [
        {
          "data": {
            "text/plain": [
              "' including .net tuning integration analysis sql writing code extraction systems and c# etc. loading oracle python my transformation database etl tools data query synchronization'"
            ]
          },
          "execution_count": 20,
          "metadata": {},
          "output_type": "execute_result"
        }
      ],
      "source": [
        "data.skills.iloc[-1]"
      ]
    },
    {
      "cell_type": "code",
      "execution_count": null,
      "metadata": {
        "id": "EHQa59PVz_8w"
      },
      "outputs": [],
      "source": [
        "tfidf = TfidfVectorizer()\n",
        "\n",
        "tfidf_matrix = tfidf.fit_transform(data.skills)"
      ]
    },
    {
      "cell_type": "code",
      "execution_count": null,
      "metadata": {
        "colab": {
          "base_uri": "https://localhost:8080/"
        },
        "id": "MNX4WpcphwVh",
        "outputId": "7ed971b9-8ede-45b8-99b4-8beb11496eb4"
      },
      "outputs": [
        {
          "data": {
            "text/plain": [
              "(1564, 1564)"
            ]
          },
          "execution_count": 22,
          "metadata": {},
          "output_type": "execute_result"
        }
      ],
      "source": [
        "cosine_sim = cosine_similarity(tfidf_matrix, tfidf_matrix) \n",
        "cosine_sim.shape"
      ]
    },
    {
      "cell_type": "code",
      "execution_count": null,
      "metadata": {
        "id": "YCY26Bj9wg8B"
      },
      "outputs": [],
      "source": [
        "indice = pd.Series(data.index, index=data['skills'])"
      ]
    },
    {
      "cell_type": "code",
      "execution_count": null,
      "metadata": {
        "id": "Aav-nY0uwy0D"
      },
      "outputs": [],
      "source": [
        "target_movie_index = get_films_by_name('python sql analysis',indice)"
      ]
    },
    {
      "cell_type": "code",
      "execution_count": null,
      "metadata": {
        "colab": {
          "base_uri": "https://localhost:8080/"
        },
        "id": "ZnaWoeGYx11c",
        "outputId": "5c2a28e1-383e-43d1-c5d2-79f99232e3f2"
      },
      "outputs": [],
      "source": [
        "d = ['python sql analysis']\n",
        "\n",
        "def skills(data):\n",
        "  tfidf_matrix = tfidf.fit_transform(data)\n",
        "  print(tfidf_matrix)\n",
        "  return tfidf_matrix\n"
      ]
    },
    {
      "cell_type": "code",
      "execution_count": null,
      "metadata": {
        "colab": {
          "base_uri": "https://localhost:8080/"
        },
        "id": "Yc3Bv_mEt-ql",
        "outputId": "b4d2cf7e-54fb-487c-c051-e08f7d680b83"
      },
      "outputs": [
        {
          "data": {
            "text/plain": [
              "{'skills': 1563     including .net tuning integration analysis sq...\n",
              " 258     data extraction  transformation  and data load...\n",
              " 568     business analysis  systems analysis  requireme...\n",
              " 433     business analysis  project management  microso...\n",
              " 129     data analysis  mysql  postgresql  sql  etl  da...\n",
              " 776                    fixed income  sql  data extraction\n",
              " 5                                        .net and c#  sql\n",
              " 1530    go  python  javascript  continuous integration...\n",
              " 740                                 net and oracle pl sql\n",
              " 1480                 java and sql and informatica and etl\n",
              " Name: skills, dtype: object,\n",
              " 'scores':          score\n",
              " 1563  1.000000\n",
              " 258   0.918790\n",
              " 568   0.249652\n",
              " 433   0.208455\n",
              " 129   0.205758\n",
              " 776   0.203298\n",
              " 5     0.197095\n",
              " 1530  0.196626\n",
              " 740   0.191480\n",
              " 1480  0.189224}"
            ]
          },
          "execution_count": 26,
          "metadata": {},
          "output_type": "execute_result"
        }
      ],
      "source": [
        "def get_films_by_name(movie_name, movie_indices):\n",
        "    return movie_indices[movie_indices.index.str.contains(movie_name)]\n",
        "\n",
        "target_movie_index = get_films_by_name('linux',indice)\n",
        "\n",
        "\n",
        "similarity_scores = pd.DataFrame(cosine_sim[1563], columns=[\"score\"])\n",
        "movie_indices = similarity_scores.sort_values(\"score\", ascending=False)[0:10].index \n",
        "result1 = data['skills'].iloc[movie_indices]\n",
        "result2 = similarity_scores.iloc[movie_indices]\n",
        "\n",
        "my_dict = {\"skills\":result1,\"scores\":result2}\n",
        "my_dict"
      ]
    },
    {
      "cell_type": "code",
      "execution_count": null,
      "metadata": {
        "colab": {
          "base_uri": "https://localhost:8080/"
        },
        "id": "4Nmj-2Ziok9o",
        "outputId": "bc150487-0051-4190-9494-f6e1ad8ed7b7"
      },
      "outputs": [
        {
          "data": {
            "text/plain": [
              "{'skills': 1563     including .net tuning integration analysis sq...\n",
              " 258     data extraction  transformation  and data load...\n",
              " 568     business analysis  systems analysis  requireme...\n",
              " 433     business analysis  project management  microso...\n",
              " 129     data analysis  mysql  postgresql  sql  etl  da...\n",
              " 776                    fixed income  sql  data extraction\n",
              " 5                                        .net and c#  sql\n",
              " 1530    go  python  javascript  continuous integration...\n",
              " 740                                 net and oracle pl sql\n",
              " 1480                 java and sql and informatica and etl\n",
              " Name: skills, dtype: object,\n",
              " 'scores':          score\n",
              " 1563  1.000000\n",
              " 258   0.918790\n",
              " 568   0.249652\n",
              " 433   0.208455\n",
              " 129   0.205758\n",
              " 776   0.203298\n",
              " 5     0.197095\n",
              " 1530  0.196626\n",
              " 740   0.191480\n",
              " 1480  0.189224}"
            ]
          },
          "execution_count": 27,
          "metadata": {},
          "output_type": "execute_result"
        }
      ],
      "source": [
        "my_dict"
      ]
    },
    {
      "cell_type": "code",
      "execution_count": null,
      "metadata": {
        "id": "iAan9MG2t4Sx"
      },
      "outputs": [],
      "source": [
        "id = []\n",
        "id.append(result1.index)\n",
        "\n",
        "indexx = []\n",
        "for i in range(1,len(id[0])):\n",
        "  indexx.append(id[0][i])\n"
      ]
    },
    {
      "cell_type": "code",
      "execution_count": null,
      "metadata": {
        "colab": {
          "base_uri": "https://localhost:8080/"
        },
        "id": "3OPTvdlG3g2C",
        "outputId": "4fa32ad3-c9db-47d9-c5de-0eb05e4d3b59"
      },
      "outputs": [
        {
          "data": {
            "text/plain": [
              "[Int64Index([1563, 258, 568, 433, 129, 776, 5, 1530, 740, 1480], dtype='int64')]"
            ]
          },
          "execution_count": 29,
          "metadata": {},
          "output_type": "execute_result"
        }
      ],
      "source": [
        "id"
      ]
    },
    {
      "cell_type": "code",
      "execution_count": null,
      "metadata": {
        "colab": {
          "base_uri": "https://localhost:8080/"
        },
        "id": "J5n1Ct43z5Vd",
        "outputId": "ce7af928-4510-4965-cf78-da6d9c4392a4"
      },
      "outputs": [
        {
          "data": {
            "text/plain": [
              "[258, 568, 433, 129, 776, 5, 1530, 740, 1480]"
            ]
          },
          "execution_count": 30,
          "metadata": {},
          "output_type": "execute_result"
        }
      ],
      "source": [
        "indexx"
      ]
    },
    {
      "cell_type": "code",
      "execution_count": null,
      "metadata": {
        "id": "Csqo6N4c2VT_"
      },
      "outputs": [],
      "source": [
        "job_title = []\n",
        "for i in range(0,len(indexx)):\n",
        "  data_cell_2 = df.at[indexx[i], \"jobtitle\"]                   \n",
        "  job_title.append(data_cell_2)\n",
        "  "
      ]
    },
    {
      "cell_type": "code",
      "execution_count": null,
      "metadata": {
        "colab": {
          "base_uri": "https://localhost:8080/"
        },
        "id": "KdMcLd9G4SJG",
        "outputId": "9550e806-08d8-4d4a-bea8-984724ad5f49"
      },
      "outputs": [
        {
          "data": {
            "text/plain": [
              "['Data Architect',\n",
              " 'Business Analyst',\n",
              " 'Business Analyst',\n",
              " 'Data Analyst',\n",
              " 'Business Analyst',\n",
              " 'Software Developer',\n",
              " 'DevOps Engineer',\n",
              " '.Net Developer',\n",
              " 'Software Engineer']"
            ]
          },
          "execution_count": 32,
          "metadata": {},
          "output_type": "execute_result"
        }
      ],
      "source": [
        "job_title"
      ]
    },
    {
      "cell_type": "code",
      "execution_count": null,
      "metadata": {
        "id": "odPV_fZu4liB"
      },
      "outputs": [],
      "source": [
        "skills = []\n",
        "for i in range(1,len(indexx)):\n",
        "  data_cell = df.at[indexx[i], \"skills\"]                   \n",
        "  skills.append(data_cell)\n",
        "  "
      ]
    },
    {
      "cell_type": "code",
      "execution_count": null,
      "metadata": {
        "id": "DxGirCpB1C23"
      },
      "outputs": [
        {
          "ename": "ValueError",
          "evalue": "invalid literal for int() with base 10: ''",
          "output_type": "error",
          "traceback": [
            "\u001b[0;31m---------------------------------------------------------------------------\u001b[0m",
            "\u001b[0;31mValueError\u001b[0m                                Traceback (most recent call last)",
            "\u001b[1;32m/home/sid/Optisol/Recommendation systems/content_based_filtering (1).ipynb Cell 39\u001b[0m in \u001b[0;36m<cell line: 1>\u001b[0;34m()\u001b[0m\n\u001b[0;32m----> <a href='vscode-notebook-cell:/home/sid/Optisol/Recommendation%20systems/content_based_filtering%20%281%29.ipynb#X63sZmlsZQ%3D%3D?line=0'>1</a>\u001b[0m num \u001b[39m=\u001b[39m \u001b[39mint\u001b[39;49m(\u001b[39minput\u001b[39;49m(\u001b[39m\"\u001b[39;49m\u001b[39mEnter a number:\u001b[39;49m\u001b[39m\"\u001b[39;49m))\n",
            "\u001b[0;31mValueError\u001b[0m: invalid literal for int() with base 10: ''"
          ]
        }
      ],
      "source": [
        "num = int(input(\"Enter a number:\"))"
      ]
    },
    {
      "cell_type": "markdown",
      "metadata": {
        "id": "gxV1dG9VK0gd"
      },
      "source": [
        "### FUNCTION"
      ]
    },
    {
      "cell_type": "code",
      "execution_count": 12,
      "metadata": {
        "id": "_EzT1YRMTcEF"
      },
      "outputs": [],
      "source": [
        "from sklearn.metrics.pairwise import cosine_similarity\n",
        "from sklearn.feature_extraction.text import TfidfVectorizer\n",
        "import pandas as pd"
      ]
    },
    {
      "cell_type": "code",
      "execution_count": 13,
      "metadata": {
        "id": "yvjcaEIhTFiG"
      },
      "outputs": [
        {
          "data": {
            "text/plain": [
              "advertiserurl               https://www.dice.com/jobs/detail/DevOps-Engine...\n",
              "company                                                      Matrix Resources\n",
              "employmenttype_jobstatus                                            Full Time\n",
              "jobdescription              Midtown based high tech firm has an immediate ...\n",
              "jobid                                                      Dice Id : matrixga\n",
              "joblocation_address                                               Atlanta, GA\n",
              "jobtitle                                                      DevOps Engineer\n",
              "postdate                                                       48 minutes ago\n",
              "shift                         Telecommuting not available|Travel not required\n",
              "site_name                                                                 NaN\n",
              "skills                      Configuration Management, Developer, Linux, Ma...\n",
              "uniq_id                                      45efa1f6bc65acc32bbbb953a1ed13b7\n",
              "Name: 0, dtype: object"
            ]
          },
          "execution_count": 13,
          "metadata": {},
          "output_type": "execute_result"
        }
      ],
      "source": [
        "df = pd.read_csv('dataset/filtere_dice_jobs_dataset.csv', low_memory=False)\n",
        "df.iloc[0]"
      ]
    },
    {
      "cell_type": "code",
      "execution_count": 14,
      "metadata": {},
      "outputs": [
        {
          "data": {
            "text/plain": [
              "advertiserurl                  0\n",
              "company                        1\n",
              "employmenttype_jobstatus       5\n",
              "jobdescription                 0\n",
              "jobid                          0\n",
              "joblocation_address            0\n",
              "jobtitle                       0\n",
              "postdate                       0\n",
              "shift                         15\n",
              "site_name                   1296\n",
              "skills                         0\n",
              "uniq_id                        0\n",
              "dtype: int64"
            ]
          },
          "execution_count": 14,
          "metadata": {},
          "output_type": "execute_result"
        }
      ],
      "source": [
        "df.isna().sum()"
      ]
    },
    {
      "cell_type": "code",
      "execution_count": 15,
      "metadata": {
        "id": "SjHYkYVyhuii"
      },
      "outputs": [],
      "source": [
        "import re\n",
        "\n",
        "def cleanResume(resumeText):\n",
        "    resumeText = re.sub('\\r\\n', ' ', resumeText) # remove blank spaces\n",
        "    resumeText = re.sub('[%s]' % re.escape(\"\"\"!\"#$%&'()*+,-/:;<=>?@[\\]^_`{|}~\"\"\"), ' ', resumeText)  # remove punctuations\n",
        "    resumeText = re.sub(r'[^\\x00-\\x7f]',r' ', resumeText) # non ascii values\n",
        "    resumeText = re.sub('\\s+', ' ', resumeText)  # remove extra whitespace\n",
        "    resumeText = resumeText.lower() # convert to lower case\n",
        "    return resumeText\n",
        "\n",
        "\n",
        "df['skills'] = df['skills'].apply(lambda x:cleanResume(x))\n",
        "df['jobtitle'] = df['jobtitle'].apply(lambda x:cleanResume(x))"
      ]
    },
    {
      "cell_type": "code",
      "execution_count": 16,
      "metadata": {
        "colab": {
          "base_uri": "https://localhost:8080/",
          "height": 727
        },
        "id": "elTN888LIAU4",
        "outputId": "bee15660-21a0-4980-8b92-461b5db61ea4"
      },
      "outputs": [],
      "source": [
        "lists = ['python sql analysis']\n",
        "\n",
        "def get_films_by_name(movie_name, movie_indices):\n",
        "    return movie_indices[movie_indices.index.str.contains(movie_name)]\n",
        "\n",
        "def skills(skill_data):\n",
        "\n",
        "      indexx = []\n",
        "      id = []\n",
        "      job_title = []\n",
        "      score = []\n",
        "      score_list = []\n",
        "      dataset = pd.DataFrame(df.skills)\n",
        "      dataset.loc[len(dataset)] = skill_data\n",
        "      \n",
        "      \n",
        "      tfidf = TfidfVectorizer()\n",
        "\n",
        "      tfidf_matrix = tfidf.fit_transform(dataset.skills)\n",
        "      indice = pd.Series(dataset.index, index=dataset['skills'])\n",
        "      cosine_sim = cosine_similarity(tfidf_matrix, tfidf_matrix)\n",
        "\n",
        "      similarity_scores = pd.DataFrame(cosine_sim[len(dataset)-1], columns=[\"score\"]) \n",
        "      movie_indices = similarity_scores.sort_values(\"score\", ascending=False)[0:10].index \n",
        "\n",
        "      result1 = dataset['skills'].iloc[movie_indices]\n",
        "      result2 = similarity_scores.iloc[movie_indices]\n",
        "\n",
        "      \n",
        "      id.append(result1.index)\n",
        "      for indx in range(1,len(id[0])):\n",
        "        indexx.append(id[0][indx])\n",
        "\n",
        "      score.append(result2.values.tolist())\n",
        "      for sc in range(1,len(score[0])):\n",
        "        score_list.append(score[0][sc])\n",
        "\n",
        "\n",
        "      for i in range(0,len(indexx)):\n",
        "        data_cell_2 = df.at[indexx[i], \"jobtitle\"]                   \n",
        "        job_title.append(data_cell_2)\n",
        "\n",
        "      outcome = pd.DataFrame({'index':indexx, 'JD':job_title, 'scores':score_list})\n",
        "\n",
        "      \n",
        "\n",
        "      print(outcome)\n",
        "\n",
        "\n",
        "      skill_op = []\n",
        "\n",
        "      num = int(input(\"Enter a number:\"))   \n",
        "      data_skill = df.at[num, \"skills\"]   \n",
        "\n",
        "      skill_set = data_skill + ' ' + skill_data[0]\n",
        "\n",
        "      words = skill_set.split(' ')\n",
        "      skill_full = \" \".join(set(words))\n",
        "      skill_op.append(skill_full)\n",
        "\n",
        "\n",
        "\n",
        "      skills(skill_op)\n"
      ]
    },
    {
      "cell_type": "code",
      "execution_count": 17,
      "metadata": {},
      "outputs": [
        {
          "data": {
            "text/plain": [
              "'ci cd pipeline chef jenkins nexus jira git agile linux'"
            ]
          },
          "execution_count": 17,
          "metadata": {},
          "output_type": "execute_result"
        }
      ],
      "source": [
        "df.skills.iloc[586]"
      ]
    },
    {
      "cell_type": "code",
      "execution_count": 18,
      "metadata": {},
      "outputs": [
        {
          "data": {
            "text/plain": [
              "'business analyst data analytics'"
            ]
          },
          "execution_count": 18,
          "metadata": {},
          "output_type": "execute_result"
        }
      ],
      "source": [
        "df.skills.iloc[1536]"
      ]
    },
    {
      "cell_type": "code",
      "execution_count": 19,
      "metadata": {},
      "outputs": [
        {
          "data": {
            "text/plain": [
              "'analysis analyst business analyst business requirements development management scrum'"
            ]
          },
          "execution_count": 19,
          "metadata": {},
          "output_type": "execute_result"
        }
      ],
      "source": [
        "df.skills.iloc[437]"
      ]
    },
    {
      "cell_type": "code",
      "execution_count": 20,
      "metadata": {
        "id": "0vNX1yXJ2APi"
      },
      "outputs": [
        {
          "name": "stdout",
          "output_type": "stream",
          "text": [
            "   index                 JD                 scores\n",
            "0    254   python developer   [0.6350836596771549]\n",
            "1    433   business analyst   [0.4866387924502208]\n",
            "2    751   python developer  [0.46969338195187466]\n",
            "3    820   business analyst   [0.4606285717562324]\n",
            "4   1136  software engineer   [0.4606285717562324]\n",
            "5   1206   business analyst   [0.4588138593586399]\n",
            "6    523       data analyst   [0.4471235708466563]\n",
            "7    249     java developer  [0.44143940487035466]\n",
            "8    568   business analyst  [0.42498189258373514]\n",
            "   index                JD                 scores\n",
            "0    523      data analyst    [0.902106392471083]\n",
            "1   1221      data analyst    [0.686280646533828]\n",
            "2    460      data analyst   [0.6265416707295306]\n",
            "3   1464    data scientist   [0.6158869283265125]\n",
            "4    254  python developer    [0.431513680736554]\n",
            "5     50    data scientist   [0.4307138063122148]\n",
            "6   1466      data analyst   [0.4142086485774187]\n",
            "7    129      data analyst  [0.40674604365226136]\n",
            "8   1012      data analyst   [0.4042628562656511]\n",
            "   index                JD                 scores\n",
            "0    523      data analyst    [0.902106392471083]\n",
            "1   1221      data analyst    [0.686280646533828]\n",
            "2    460      data analyst   [0.6265416707295306]\n",
            "3   1464    data scientist   [0.6158869283265125]\n",
            "4    254  python developer    [0.431513680736554]\n",
            "5     50    data scientist   [0.4307138063122148]\n",
            "6   1466      data analyst   [0.4142086485774187]\n",
            "7    129      data analyst  [0.40674604365226136]\n",
            "8   1012      data analyst   [0.4042628562656511]\n",
            "   index                JD                 scores\n",
            "0    523      data analyst    [0.902106392471083]\n",
            "1   1221      data analyst    [0.686280646533828]\n",
            "2    460      data analyst   [0.6265416707295306]\n",
            "3   1464    data scientist   [0.6158869283265125]\n",
            "4    254  python developer    [0.431513680736554]\n",
            "5     50    data scientist   [0.4307138063122148]\n",
            "6   1466      data analyst   [0.4142086485774187]\n",
            "7    129      data analyst  [0.40674604365226136]\n",
            "8   1012      data analyst   [0.4042628562656511]\n",
            "   index              JD                 scores\n",
            "0     50  data scientist   [0.9529038786719072]\n",
            "1   1434  data scientist   [0.5630167353717535]\n",
            "2    523    data analyst   [0.5212673100457021]\n",
            "3   1012    data analyst  [0.47575247314037594]\n",
            "4    299  data scientist   [0.4297757761257765]\n",
            "5   1221    data analyst  [0.39655596007383465]\n",
            "6    422    data analyst  [0.38141422509865974]\n",
            "7    460    data analyst    [0.362036777544719]\n",
            "8   1464  data scientist   [0.3558801102624514]\n",
            "   index              JD                 scores\n",
            "0    299  data scientist   [0.8887534864563813]\n",
            "1     50  data scientist   [0.6609288249786885]\n",
            "2    460    data analyst   [0.4054094482589401]\n",
            "3   1434  data scientist   [0.3905052730724714]\n",
            "4    523    data analyst  [0.36154810410518745]\n",
            "5   1012    data analyst   [0.3299792666303519]\n",
            "6    823  data scientist   [0.2829212956538182]\n",
            "7   1221    data analyst  [0.27504900609197425]\n",
            "8    422    data analyst   [0.2645467830144179]\n",
            "   index              JD                 scores\n",
            "0    299  data scientist   [0.8887534864563813]\n",
            "1     50  data scientist   [0.6609288249786885]\n",
            "2    460    data analyst   [0.4054094482589401]\n",
            "3   1434  data scientist   [0.3905052730724714]\n",
            "4    523    data analyst  [0.36154810410518745]\n",
            "5   1012    data analyst   [0.3299792666303519]\n",
            "6    823  data scientist   [0.2829212956538182]\n",
            "7   1221    data analyst  [0.27504900609197425]\n",
            "8    422    data analyst   [0.2645467830144179]\n"
          ]
        },
        {
          "ename": "ValueError",
          "evalue": "invalid literal for int() with base 10: ''",
          "output_type": "error",
          "traceback": [
            "\u001b[0;31m---------------------------------------------------------------------------\u001b[0m",
            "\u001b[0;31mValueError\u001b[0m                                Traceback (most recent call last)",
            "\u001b[1;32m/home/sid/Optisol/Recommendation systems/content_based_filtering (1).ipynb Cell 49\u001b[0m in \u001b[0;36m<cell line: 1>\u001b[0;34m()\u001b[0m\n\u001b[0;32m----> <a href='vscode-notebook-cell:/home/sid/Optisol/Recommendation%20systems/content_based_filtering%20%281%29.ipynb#X66sZmlsZQ%3D%3D?line=0'>1</a>\u001b[0m skills(lists)\n",
            "\u001b[1;32m/home/sid/Optisol/Recommendation systems/content_based_filtering (1).ipynb Cell 49\u001b[0m in \u001b[0;36mskills\u001b[0;34m(skill_data)\u001b[0m\n\u001b[1;32m     <a href='vscode-notebook-cell:/home/sid/Optisol/Recommendation%20systems/content_based_filtering%20%281%29.ipynb#X66sZmlsZQ%3D%3D?line=57'>58</a>\u001b[0m skill_full \u001b[39m=\u001b[39m \u001b[39m\"\u001b[39m\u001b[39m \u001b[39m\u001b[39m\"\u001b[39m\u001b[39m.\u001b[39mjoin(\u001b[39mset\u001b[39m(words))\n\u001b[1;32m     <a href='vscode-notebook-cell:/home/sid/Optisol/Recommendation%20systems/content_based_filtering%20%281%29.ipynb#X66sZmlsZQ%3D%3D?line=58'>59</a>\u001b[0m skill_op\u001b[39m.\u001b[39mappend(skill_full)\n\u001b[0;32m---> <a href='vscode-notebook-cell:/home/sid/Optisol/Recommendation%20systems/content_based_filtering%20%281%29.ipynb#X66sZmlsZQ%3D%3D?line=62'>63</a>\u001b[0m skills(skill_op)\n",
            "\u001b[1;32m/home/sid/Optisol/Recommendation systems/content_based_filtering (1).ipynb Cell 49\u001b[0m in \u001b[0;36mskills\u001b[0;34m(skill_data)\u001b[0m\n\u001b[1;32m     <a href='vscode-notebook-cell:/home/sid/Optisol/Recommendation%20systems/content_based_filtering%20%281%29.ipynb#X66sZmlsZQ%3D%3D?line=57'>58</a>\u001b[0m skill_full \u001b[39m=\u001b[39m \u001b[39m\"\u001b[39m\u001b[39m \u001b[39m\u001b[39m\"\u001b[39m\u001b[39m.\u001b[39mjoin(\u001b[39mset\u001b[39m(words))\n\u001b[1;32m     <a href='vscode-notebook-cell:/home/sid/Optisol/Recommendation%20systems/content_based_filtering%20%281%29.ipynb#X66sZmlsZQ%3D%3D?line=58'>59</a>\u001b[0m skill_op\u001b[39m.\u001b[39mappend(skill_full)\n\u001b[0;32m---> <a href='vscode-notebook-cell:/home/sid/Optisol/Recommendation%20systems/content_based_filtering%20%281%29.ipynb#X66sZmlsZQ%3D%3D?line=62'>63</a>\u001b[0m skills(skill_op)\n",
            "    \u001b[0;31m[... skipping similar frames: skills at line 63 (3 times)]\u001b[0m\n",
            "\u001b[1;32m/home/sid/Optisol/Recommendation systems/content_based_filtering (1).ipynb Cell 49\u001b[0m in \u001b[0;36mskills\u001b[0;34m(skill_data)\u001b[0m\n\u001b[1;32m     <a href='vscode-notebook-cell:/home/sid/Optisol/Recommendation%20systems/content_based_filtering%20%281%29.ipynb#X66sZmlsZQ%3D%3D?line=57'>58</a>\u001b[0m skill_full \u001b[39m=\u001b[39m \u001b[39m\"\u001b[39m\u001b[39m \u001b[39m\u001b[39m\"\u001b[39m\u001b[39m.\u001b[39mjoin(\u001b[39mset\u001b[39m(words))\n\u001b[1;32m     <a href='vscode-notebook-cell:/home/sid/Optisol/Recommendation%20systems/content_based_filtering%20%281%29.ipynb#X66sZmlsZQ%3D%3D?line=58'>59</a>\u001b[0m skill_op\u001b[39m.\u001b[39mappend(skill_full)\n\u001b[0;32m---> <a href='vscode-notebook-cell:/home/sid/Optisol/Recommendation%20systems/content_based_filtering%20%281%29.ipynb#X66sZmlsZQ%3D%3D?line=62'>63</a>\u001b[0m skills(skill_op)\n",
            "\u001b[1;32m/home/sid/Optisol/Recommendation systems/content_based_filtering (1).ipynb Cell 49\u001b[0m in \u001b[0;36mskills\u001b[0;34m(skill_data)\u001b[0m\n\u001b[1;32m     <a href='vscode-notebook-cell:/home/sid/Optisol/Recommendation%20systems/content_based_filtering%20%281%29.ipynb#X66sZmlsZQ%3D%3D?line=46'>47</a>\u001b[0m \u001b[39mprint\u001b[39m(outcome)\n\u001b[1;32m     <a href='vscode-notebook-cell:/home/sid/Optisol/Recommendation%20systems/content_based_filtering%20%281%29.ipynb#X66sZmlsZQ%3D%3D?line=49'>50</a>\u001b[0m skill_op \u001b[39m=\u001b[39m []\n\u001b[0;32m---> <a href='vscode-notebook-cell:/home/sid/Optisol/Recommendation%20systems/content_based_filtering%20%281%29.ipynb#X66sZmlsZQ%3D%3D?line=51'>52</a>\u001b[0m num \u001b[39m=\u001b[39m \u001b[39mint\u001b[39;49m(\u001b[39minput\u001b[39;49m(\u001b[39m\"\u001b[39;49m\u001b[39mEnter a number:\u001b[39;49m\u001b[39m\"\u001b[39;49m))   \n\u001b[1;32m     <a href='vscode-notebook-cell:/home/sid/Optisol/Recommendation%20systems/content_based_filtering%20%281%29.ipynb#X66sZmlsZQ%3D%3D?line=52'>53</a>\u001b[0m data_skill \u001b[39m=\u001b[39m df\u001b[39m.\u001b[39mat[num, \u001b[39m\"\u001b[39m\u001b[39mskills\u001b[39m\u001b[39m\"\u001b[39m]   \n\u001b[1;32m     <a href='vscode-notebook-cell:/home/sid/Optisol/Recommendation%20systems/content_based_filtering%20%281%29.ipynb#X66sZmlsZQ%3D%3D?line=54'>55</a>\u001b[0m skill_set \u001b[39m=\u001b[39m data_skill \u001b[39m+\u001b[39m \u001b[39m'\u001b[39m\u001b[39m \u001b[39m\u001b[39m'\u001b[39m \u001b[39m+\u001b[39m skill_data[\u001b[39m0\u001b[39m]\n",
            "\u001b[0;31mValueError\u001b[0m: invalid literal for int() with base 10: ''"
          ]
        }
      ],
      "source": [
        "skills(lists)"
      ]
    },
    {
      "cell_type": "code",
      "execution_count": null,
      "metadata": {
        "id": "nNS9BSKn2ALS"
      },
      "outputs": [],
      "source": []
    },
    {
      "cell_type": "markdown",
      "metadata": {
        "id": "eQK6eVM12Fv5"
      },
      "source": [
        "### FUNC2"
      ]
    },
    {
      "cell_type": "code",
      "execution_count": 63,
      "metadata": {
        "id": "a3qoWNH12PVz"
      },
      "outputs": [],
      "source": [
        "from sklearn.metrics.pairwise import cosine_similarity\n",
        "from sklearn.feature_extraction.text import TfidfVectorizer\n",
        "import pandas as pd\n",
        "import re"
      ]
    },
    {
      "cell_type": "code",
      "execution_count": 64,
      "metadata": {
        "id": "IkN3RGDg2PQa"
      },
      "outputs": [],
      "source": [
        "def cleanResume(resumeText):\n",
        "    resumeText = re.sub('\\r\\n', ' ', resumeText) # remove blank spaces\n",
        "    resumeText = re.sub('[%s]' % re.escape(\"\"\"!\"#$%&'()*+,-/:;<=>?@[\\]^_`{|}~\"\"\"), ' ', resumeText)  # remove punctuations\n",
        "    resumeText = re.sub(r'[^\\x00-\\x7f]',r' ', resumeText) # non ascii values\n",
        "    resumeText = re.sub('\\s+', ' ', resumeText)  # remove extra whitespace\n",
        "    resumeText = resumeText.lower() # convert to lower case\n",
        "    return resumeText\n",
        "\n",
        "def data_loader(df):\n",
        "  df['skills'] = df['skills'].apply(lambda x:cleanResume(x))\n",
        "  df['jobtitle'] = df['jobtitle'].apply(lambda x:cleanResume(x))\n",
        "  return df\n"
      ]
    },
    {
      "cell_type": "code",
      "execution_count": 121,
      "metadata": {
        "id": "gSA1KDoviyyN"
      },
      "outputs": [],
      "source": [
        "def skills(skill_data):\n",
        "      indexx = []\n",
        "      id = []\n",
        "      job_title = []\n",
        "      score = []\n",
        "      score_list = []\n",
        "      dataset = pd.DataFrame(df.skills)\n",
        "      dataset.loc[len(dataset)] = skill_data\n",
        "      \n",
        "      \n",
        "      tfidf = TfidfVectorizer()\n",
        "\n",
        "      tfidf_matrix = tfidf.fit_transform(dataset.skills)\n",
        "      indice = pd.Series(dataset.index, index=dataset['skills'])\n",
        "      cosine_sim = cosine_similarity(tfidf_matrix, tfidf_matrix)\n",
        "\n",
        "      similarity_scores = pd.DataFrame(cosine_sim[len(dataset)-1], columns=[\"score\"]) \n",
        "      movie_indices = similarity_scores.sort_values(\"score\", ascending=False)[0:10].index \n",
        "\n",
        "      result1 = dataset['skills'].iloc[movie_indices]\n",
        "      result2 = similarity_scores.iloc[movie_indices]\n",
        "\n",
        "      \n",
        "      id.append(result1.index)\n",
        "      for indx in range(1,len(id[0])):\n",
        "        indexx.append(id[0][indx])\n",
        "\n",
        "      score.append(result2.values.tolist())\n",
        "      for sc in range(1,len(score[0])):\n",
        "        score_list.append(score[0][sc])\n",
        "\n",
        "\n",
        "      for i in range(0,len(indexx)):\n",
        "        data_cell_2 = df.at[indexx[i], \"jobtitle\"]                   \n",
        "        job_title.append(data_cell_2)\n",
        "\n",
        "      outcome = pd.DataFrame({'Id':indexx, 'JD':job_title, 'Scores':score_list})\n",
        "      return outcome\n"
      ]
    },
    {
      "cell_type": "code",
      "execution_count": 122,
      "metadata": {
        "id": "zePKlLZ_Yl1K"
      },
      "outputs": [],
      "source": [
        "def skill_list(df,num):\n",
        "\n",
        "      data_skill = df.at[num, \"skills\"]\n",
        "      words = data_skill.split(' ')\n",
        "      skill_full = \" \".join(set(words))\n",
        "\n",
        "      return skill_full\n"
      ]
    },
    {
      "cell_type": "code",
      "execution_count": 126,
      "metadata": {},
      "outputs": [],
      "source": [
        "def skills_function(df,skill):\n",
        "      skill_history = []\n",
        "      flag=0\n",
        "      num=10000\n",
        "      while True:\n",
        "            if num==-1:\n",
        "                  break\n",
        "      \n",
        "            if flag==0:\n",
        "                  input_skill_jd = skills(skill)\n",
        "                  skill_history.append(skill)\n",
        "                  print(input_skill_jd)\n",
        "                  flag=1\n",
        "            \n",
        "            \n",
        "            num = int(input(\"Enter a number:\")) \n",
        "            new_skills = skill_list(df,num) \n",
        "            skill_history.append(new_skills)\n",
        "\n",
        "            skill = skill.split() + new_skills.split(' ')\n",
        "            skill = \" \".join(set(skill))\n",
        "            skill = \" \".join(set(skill.split()))\n",
        "            output_skills = skills(skill)\n",
        "            print(\"--\",)\n",
        "            print(\"---->\",output_skills)\n"
      ]
    },
    {
      "cell_type": "code",
      "execution_count": 128,
      "metadata": {
        "colab": {
          "base_uri": "https://localhost:8080/",
          "height": 540
        },
        "id": "y_JrOxZ_Ylz4",
        "outputId": "8f16f6a5-771a-4a0f-faac-31a128e1a11c"
      },
      "outputs": [
        {
          "name": "stdout",
          "output_type": "stream",
          "text": [
            "     Id                 JD                 Scores\n",
            "0   254   python developer   [0.6350836596771549]\n",
            "1   433   business analyst   [0.4866387924502208]\n",
            "2   751   python developer  [0.46969338195187466]\n",
            "3   820   business analyst   [0.4606285717562324]\n",
            "4  1136  software engineer   [0.4606285717562324]\n",
            "5  1206   business analyst   [0.4588138593586399]\n",
            "6   523       data analyst   [0.4471235708466563]\n",
            "7   249     java developer  [0.44143940487035466]\n",
            "8   568   business analyst  [0.42498189258373514]\n",
            "---->      Id                  JD                 Scores\n",
            "0   249      java developer   [0.7634279212494108]\n",
            "1   254    python developer   [0.5310371369877246]\n",
            "2  1252   software engineer   [0.4916954021237763]\n",
            "3   695      java developer  [0.45972727207902325]\n",
            "4     5  software developer   [0.4527094004444888]\n",
            "5  1480   software engineer   [0.4433336054603078]\n",
            "6   646      .net developer  [0.43423028789297424]\n",
            "7  1148       web developer   [0.4301688891647172]\n",
            "8   780      java developer  [0.41053114252067063]\n",
            "---->      Id                  JD                 Scores\n",
            "0   249      java developer   [0.7634279212494108]\n",
            "1   254    python developer   [0.5310371369877246]\n",
            "2  1252   software engineer   [0.4916954021237763]\n",
            "3   695      java developer  [0.45972727207902325]\n",
            "4     5  software developer   [0.4527094004444888]\n",
            "5  1480   software engineer   [0.4433336054603078]\n",
            "6   646      .net developer  [0.43423028789297424]\n",
            "7  1148       web developer   [0.4301688891647172]\n",
            "8   780      java developer  [0.41053114252067063]\n",
            "---->      Id                     JD                 Scores\n",
            "0   695         java developer   [0.6841297945101561]\n",
            "1  1236         java developer   [0.5238194048291847]\n",
            "2   249         java developer  [0.46868286370319645]\n",
            "3  1322  senior java developer   [0.4583880306862154]\n",
            "4   784     software developer  [0.40283916142809517]\n",
            "5   185       python developer  [0.40078729085161413]\n",
            "6   501  senior java developer   [0.3957034411602733]\n",
            "7   646         .net developer  [0.39094824861031247]\n",
            "8   818         java developer  [0.38734073917281064]\n"
          ]
        }
      ],
      "source": [
        "def main():\n",
        "      #skills = str(input(\"Enter your Resume Skills:\"))\n",
        "      data = pd.read_csv('dataset/filtere_dice_jobs_dataset.csv', low_memory=False)\n",
        "      df = data_loader(data)\n",
        "      skills = \"python sql analysis\"\n",
        "      skills_function(df,skills)\n",
        "\n",
        "main()"
      ]
    },
    {
      "cell_type": "code",
      "execution_count": null,
      "metadata": {
        "id": "Sb5vnbOM7pwr"
      },
      "outputs": [],
      "source": []
    },
    {
      "cell_type": "code",
      "execution_count": null,
      "metadata": {
        "id": "_gtGb4oN-9WD"
      },
      "outputs": [],
      "source": []
    },
    {
      "cell_type": "code",
      "execution_count": null,
      "metadata": {
        "id": "WfV4Tpqf-9R2"
      },
      "outputs": [],
      "source": []
    },
    {
      "cell_type": "code",
      "execution_count": null,
      "metadata": {
        "id": "4gKJk13Q-9Qv"
      },
      "outputs": [],
      "source": []
    },
    {
      "cell_type": "markdown",
      "metadata": {
        "id": "Z2Fc-aY1--Ni"
      },
      "source": [
        "### PRACTICE"
      ]
    },
    {
      "cell_type": "code",
      "execution_count": null,
      "metadata": {
        "colab": {
          "base_uri": "https://localhost:8080/",
          "height": 349
        },
        "id": "ZqHGaFDc-zAL",
        "outputId": "7010a5c0-88ed-4b35-c38b-56acd7b1894a"
      },
      "outputs": [
        {
          "name": "stdout",
          "output_type": "stream",
          "text": [
            "data lineage gap analysis mapping\n"
          ]
        },
        {
          "data": {
            "text/html": [
              "\n",
              "  <div id=\"df-3ae4ffbc-0e30-45c0-b9a2-b581fdbec30c\">\n",
              "    <div class=\"colab-df-container\">\n",
              "      <div>\n",
              "<style scoped>\n",
              "    .dataframe tbody tr th:only-of-type {\n",
              "        vertical-align: middle;\n",
              "    }\n",
              "\n",
              "    .dataframe tbody tr th {\n",
              "        vertical-align: top;\n",
              "    }\n",
              "\n",
              "    .dataframe thead th {\n",
              "        text-align: right;\n",
              "    }\n",
              "</style>\n",
              "<table border=\"1\" class=\"dataframe\">\n",
              "  <thead>\n",
              "    <tr style=\"text-align: right;\">\n",
              "      <th></th>\n",
              "      <th>index</th>\n",
              "      <th>JD</th>\n",
              "      <th>scores</th>\n",
              "    </tr>\n",
              "  </thead>\n",
              "  <tbody>\n",
              "    <tr>\n",
              "      <th>0</th>\n",
              "      <td>1233</td>\n",
              "      <td>data analyst</td>\n",
              "      <td>[0.9697002295300488]</td>\n",
              "    </tr>\n",
              "    <tr>\n",
              "      <th>1</th>\n",
              "      <td>1261</td>\n",
              "      <td>data analyst</td>\n",
              "      <td>[0.9697002295300488]</td>\n",
              "    </tr>\n",
              "    <tr>\n",
              "      <th>2</th>\n",
              "      <td>568</td>\n",
              "      <td>business analyst</td>\n",
              "      <td>[0.45031303826370506]</td>\n",
              "    </tr>\n",
              "    <tr>\n",
              "      <th>3</th>\n",
              "      <td>422</td>\n",
              "      <td>data analyst</td>\n",
              "      <td>[0.43865531511525035]</td>\n",
              "    </tr>\n",
              "    <tr>\n",
              "      <th>4</th>\n",
              "      <td>147</td>\n",
              "      <td>business analyst</td>\n",
              "      <td>[0.41352844718420956]</td>\n",
              "    </tr>\n",
              "    <tr>\n",
              "      <th>5</th>\n",
              "      <td>410</td>\n",
              "      <td>business analyst</td>\n",
              "      <td>[0.36418953003069726]</td>\n",
              "    </tr>\n",
              "    <tr>\n",
              "      <th>6</th>\n",
              "      <td>1337</td>\n",
              "      <td>business systems analyst</td>\n",
              "      <td>[0.3190292264931914]</td>\n",
              "    </tr>\n",
              "    <tr>\n",
              "      <th>7</th>\n",
              "      <td>523</td>\n",
              "      <td>data analyst</td>\n",
              "      <td>[0.2643294800657574]</td>\n",
              "    </tr>\n",
              "    <tr>\n",
              "      <th>8</th>\n",
              "      <td>129</td>\n",
              "      <td>data analyst</td>\n",
              "      <td>[0.25189584837190976]</td>\n",
              "    </tr>\n",
              "  </tbody>\n",
              "</table>\n",
              "</div>\n",
              "      <button class=\"colab-df-convert\" onclick=\"convertToInteractive('df-3ae4ffbc-0e30-45c0-b9a2-b581fdbec30c')\"\n",
              "              title=\"Convert this dataframe to an interactive table.\"\n",
              "              style=\"display:none;\">\n",
              "        \n",
              "  <svg xmlns=\"http://www.w3.org/2000/svg\" height=\"24px\"viewBox=\"0 0 24 24\"\n",
              "       width=\"24px\">\n",
              "    <path d=\"M0 0h24v24H0V0z\" fill=\"none\"/>\n",
              "    <path d=\"M18.56 5.44l.94 2.06.94-2.06 2.06-.94-2.06-.94-.94-2.06-.94 2.06-2.06.94zm-11 1L8.5 8.5l.94-2.06 2.06-.94-2.06-.94L8.5 2.5l-.94 2.06-2.06.94zm10 10l.94 2.06.94-2.06 2.06-.94-2.06-.94-.94-2.06-.94 2.06-2.06.94z\"/><path d=\"M17.41 7.96l-1.37-1.37c-.4-.4-.92-.59-1.43-.59-.52 0-1.04.2-1.43.59L10.3 9.45l-7.72 7.72c-.78.78-.78 2.05 0 2.83L4 21.41c.39.39.9.59 1.41.59.51 0 1.02-.2 1.41-.59l7.78-7.78 2.81-2.81c.8-.78.8-2.07 0-2.86zM5.41 20L4 18.59l7.72-7.72 1.47 1.35L5.41 20z\"/>\n",
              "  </svg>\n",
              "      </button>\n",
              "      \n",
              "  <style>\n",
              "    .colab-df-container {\n",
              "      display:flex;\n",
              "      flex-wrap:wrap;\n",
              "      gap: 12px;\n",
              "    }\n",
              "\n",
              "    .colab-df-convert {\n",
              "      background-color: #E8F0FE;\n",
              "      border: none;\n",
              "      border-radius: 50%;\n",
              "      cursor: pointer;\n",
              "      display: none;\n",
              "      fill: #1967D2;\n",
              "      height: 32px;\n",
              "      padding: 0 0 0 0;\n",
              "      width: 32px;\n",
              "    }\n",
              "\n",
              "    .colab-df-convert:hover {\n",
              "      background-color: #E2EBFA;\n",
              "      box-shadow: 0px 1px 2px rgba(60, 64, 67, 0.3), 0px 1px 3px 1px rgba(60, 64, 67, 0.15);\n",
              "      fill: #174EA6;\n",
              "    }\n",
              "\n",
              "    [theme=dark] .colab-df-convert {\n",
              "      background-color: #3B4455;\n",
              "      fill: #D2E3FC;\n",
              "    }\n",
              "\n",
              "    [theme=dark] .colab-df-convert:hover {\n",
              "      background-color: #434B5C;\n",
              "      box-shadow: 0px 1px 3px 1px rgba(0, 0, 0, 0.15);\n",
              "      filter: drop-shadow(0px 1px 2px rgba(0, 0, 0, 0.3));\n",
              "      fill: #FFFFFF;\n",
              "    }\n",
              "  </style>\n",
              "\n",
              "      <script>\n",
              "        const buttonEl =\n",
              "          document.querySelector('#df-3ae4ffbc-0e30-45c0-b9a2-b581fdbec30c button.colab-df-convert');\n",
              "        buttonEl.style.display =\n",
              "          google.colab.kernel.accessAllowed ? 'block' : 'none';\n",
              "\n",
              "        async function convertToInteractive(key) {\n",
              "          const element = document.querySelector('#df-3ae4ffbc-0e30-45c0-b9a2-b581fdbec30c');\n",
              "          const dataTable =\n",
              "            await google.colab.kernel.invokeFunction('convertToInteractive',\n",
              "                                                     [key], {});\n",
              "          if (!dataTable) return;\n",
              "\n",
              "          const docLinkHtml = 'Like what you see? Visit the ' +\n",
              "            '<a target=\"_blank\" href=https://colab.research.google.com/notebooks/data_table.ipynb>data table notebook</a>'\n",
              "            + ' to learn more about interactive tables.';\n",
              "          element.innerHTML = '';\n",
              "          dataTable['output_type'] = 'display_data';\n",
              "          await google.colab.output.renderOutput(dataTable, element);\n",
              "          const docLink = document.createElement('div');\n",
              "          docLink.innerHTML = docLinkHtml;\n",
              "          element.appendChild(docLink);\n",
              "        }\n",
              "      </script>\n",
              "    </div>\n",
              "  </div>\n",
              "  "
            ],
            "text/plain": [
              "   index                        JD                 scores\n",
              "0   1233              data analyst   [0.9697002295300488]\n",
              "1   1261              data analyst   [0.9697002295300488]\n",
              "2    568          business analyst  [0.45031303826370506]\n",
              "3    422              data analyst  [0.43865531511525035]\n",
              "4    147          business analyst  [0.41352844718420956]\n",
              "5    410          business analyst  [0.36418953003069726]\n",
              "6   1337  business systems analyst   [0.3190292264931914]\n",
              "7    523              data analyst   [0.2643294800657574]\n",
              "8    129              data analyst  [0.25189584837190976]"
            ]
          },
          "execution_count": 67,
          "metadata": {},
          "output_type": "execute_result"
        }
      ],
      "source": [
        "list_data(1233)"
      ]
    },
    {
      "cell_type": "code",
      "execution_count": null,
      "metadata": {
        "colab": {
          "base_uri": "https://localhost:8080/",
          "height": 349
        },
        "id": "D-hyyajT-y_Q",
        "outputId": "157db586-6ee3-4332-fe84-faea7770b1fd"
      },
      "outputs": [
        {
          "name": "stdout",
          "output_type": "stream",
          "text": [
            "data lineage gap analysis mapping\n"
          ]
        },
        {
          "data": {
            "text/html": [
              "\n",
              "  <div id=\"df-c2bb968f-2c59-4c33-9585-78a7e2508210\">\n",
              "    <div class=\"colab-df-container\">\n",
              "      <div>\n",
              "<style scoped>\n",
              "    .dataframe tbody tr th:only-of-type {\n",
              "        vertical-align: middle;\n",
              "    }\n",
              "\n",
              "    .dataframe tbody tr th {\n",
              "        vertical-align: top;\n",
              "    }\n",
              "\n",
              "    .dataframe thead th {\n",
              "        text-align: right;\n",
              "    }\n",
              "</style>\n",
              "<table border=\"1\" class=\"dataframe\">\n",
              "  <thead>\n",
              "    <tr style=\"text-align: right;\">\n",
              "      <th></th>\n",
              "      <th>index</th>\n",
              "      <th>JD</th>\n",
              "      <th>scores</th>\n",
              "    </tr>\n",
              "  </thead>\n",
              "  <tbody>\n",
              "    <tr>\n",
              "      <th>0</th>\n",
              "      <td>1233</td>\n",
              "      <td>data analyst</td>\n",
              "      <td>[0.9697002295300488]</td>\n",
              "    </tr>\n",
              "    <tr>\n",
              "      <th>1</th>\n",
              "      <td>1261</td>\n",
              "      <td>data analyst</td>\n",
              "      <td>[0.9697002295300488]</td>\n",
              "    </tr>\n",
              "    <tr>\n",
              "      <th>2</th>\n",
              "      <td>568</td>\n",
              "      <td>business analyst</td>\n",
              "      <td>[0.45031303826370506]</td>\n",
              "    </tr>\n",
              "    <tr>\n",
              "      <th>3</th>\n",
              "      <td>422</td>\n",
              "      <td>data analyst</td>\n",
              "      <td>[0.43865531511525035]</td>\n",
              "    </tr>\n",
              "    <tr>\n",
              "      <th>4</th>\n",
              "      <td>147</td>\n",
              "      <td>business analyst</td>\n",
              "      <td>[0.41352844718420956]</td>\n",
              "    </tr>\n",
              "    <tr>\n",
              "      <th>5</th>\n",
              "      <td>410</td>\n",
              "      <td>business analyst</td>\n",
              "      <td>[0.36418953003069726]</td>\n",
              "    </tr>\n",
              "    <tr>\n",
              "      <th>6</th>\n",
              "      <td>1337</td>\n",
              "      <td>business systems analyst</td>\n",
              "      <td>[0.3190292264931914]</td>\n",
              "    </tr>\n",
              "    <tr>\n",
              "      <th>7</th>\n",
              "      <td>523</td>\n",
              "      <td>data analyst</td>\n",
              "      <td>[0.2643294800657574]</td>\n",
              "    </tr>\n",
              "    <tr>\n",
              "      <th>8</th>\n",
              "      <td>129</td>\n",
              "      <td>data analyst</td>\n",
              "      <td>[0.25189584837190976]</td>\n",
              "    </tr>\n",
              "  </tbody>\n",
              "</table>\n",
              "</div>\n",
              "      <button class=\"colab-df-convert\" onclick=\"convertToInteractive('df-c2bb968f-2c59-4c33-9585-78a7e2508210')\"\n",
              "              title=\"Convert this dataframe to an interactive table.\"\n",
              "              style=\"display:none;\">\n",
              "        \n",
              "  <svg xmlns=\"http://www.w3.org/2000/svg\" height=\"24px\"viewBox=\"0 0 24 24\"\n",
              "       width=\"24px\">\n",
              "    <path d=\"M0 0h24v24H0V0z\" fill=\"none\"/>\n",
              "    <path d=\"M18.56 5.44l.94 2.06.94-2.06 2.06-.94-2.06-.94-.94-2.06-.94 2.06-2.06.94zm-11 1L8.5 8.5l.94-2.06 2.06-.94-2.06-.94L8.5 2.5l-.94 2.06-2.06.94zm10 10l.94 2.06.94-2.06 2.06-.94-2.06-.94-.94-2.06-.94 2.06-2.06.94z\"/><path d=\"M17.41 7.96l-1.37-1.37c-.4-.4-.92-.59-1.43-.59-.52 0-1.04.2-1.43.59L10.3 9.45l-7.72 7.72c-.78.78-.78 2.05 0 2.83L4 21.41c.39.39.9.59 1.41.59.51 0 1.02-.2 1.41-.59l7.78-7.78 2.81-2.81c.8-.78.8-2.07 0-2.86zM5.41 20L4 18.59l7.72-7.72 1.47 1.35L5.41 20z\"/>\n",
              "  </svg>\n",
              "      </button>\n",
              "      \n",
              "  <style>\n",
              "    .colab-df-container {\n",
              "      display:flex;\n",
              "      flex-wrap:wrap;\n",
              "      gap: 12px;\n",
              "    }\n",
              "\n",
              "    .colab-df-convert {\n",
              "      background-color: #E8F0FE;\n",
              "      border: none;\n",
              "      border-radius: 50%;\n",
              "      cursor: pointer;\n",
              "      display: none;\n",
              "      fill: #1967D2;\n",
              "      height: 32px;\n",
              "      padding: 0 0 0 0;\n",
              "      width: 32px;\n",
              "    }\n",
              "\n",
              "    .colab-df-convert:hover {\n",
              "      background-color: #E2EBFA;\n",
              "      box-shadow: 0px 1px 2px rgba(60, 64, 67, 0.3), 0px 1px 3px 1px rgba(60, 64, 67, 0.15);\n",
              "      fill: #174EA6;\n",
              "    }\n",
              "\n",
              "    [theme=dark] .colab-df-convert {\n",
              "      background-color: #3B4455;\n",
              "      fill: #D2E3FC;\n",
              "    }\n",
              "\n",
              "    [theme=dark] .colab-df-convert:hover {\n",
              "      background-color: #434B5C;\n",
              "      box-shadow: 0px 1px 3px 1px rgba(0, 0, 0, 0.15);\n",
              "      filter: drop-shadow(0px 1px 2px rgba(0, 0, 0, 0.3));\n",
              "      fill: #FFFFFF;\n",
              "    }\n",
              "  </style>\n",
              "\n",
              "      <script>\n",
              "        const buttonEl =\n",
              "          document.querySelector('#df-c2bb968f-2c59-4c33-9585-78a7e2508210 button.colab-df-convert');\n",
              "        buttonEl.style.display =\n",
              "          google.colab.kernel.accessAllowed ? 'block' : 'none';\n",
              "\n",
              "        async function convertToInteractive(key) {\n",
              "          const element = document.querySelector('#df-c2bb968f-2c59-4c33-9585-78a7e2508210');\n",
              "          const dataTable =\n",
              "            await google.colab.kernel.invokeFunction('convertToInteractive',\n",
              "                                                     [key], {});\n",
              "          if (!dataTable) return;\n",
              "\n",
              "          const docLinkHtml = 'Like what you see? Visit the ' +\n",
              "            '<a target=\"_blank\" href=https://colab.research.google.com/notebooks/data_table.ipynb>data table notebook</a>'\n",
              "            + ' to learn more about interactive tables.';\n",
              "          element.innerHTML = '';\n",
              "          dataTable['output_type'] = 'display_data';\n",
              "          await google.colab.output.renderOutput(dataTable, element);\n",
              "          const docLink = document.createElement('div');\n",
              "          docLink.innerHTML = docLinkHtml;\n",
              "          element.appendChild(docLink);\n",
              "        }\n",
              "      </script>\n",
              "    </div>\n",
              "  </div>\n",
              "  "
            ],
            "text/plain": [
              "   index                        JD                 scores\n",
              "0   1233              data analyst   [0.9697002295300488]\n",
              "1   1261              data analyst   [0.9697002295300488]\n",
              "2    568          business analyst  [0.45031303826370506]\n",
              "3    422              data analyst  [0.43865531511525035]\n",
              "4    147          business analyst  [0.41352844718420956]\n",
              "5    410          business analyst  [0.36418953003069726]\n",
              "6   1337  business systems analyst   [0.3190292264931914]\n",
              "7    523              data analyst   [0.2643294800657574]\n",
              "8    129              data analyst  [0.25189584837190976]"
            ]
          },
          "execution_count": 68,
          "metadata": {},
          "output_type": "execute_result"
        }
      ],
      "source": [
        "list_data(1261)"
      ]
    },
    {
      "cell_type": "code",
      "execution_count": null,
      "metadata": {
        "colab": {
          "base_uri": "https://localhost:8080/",
          "height": 349
        },
        "id": "qRK093aj-2cO",
        "outputId": "80767505-435c-443a-d94b-21f9bd589585"
      },
      "outputs": [
        {
          "name": "stdout",
          "output_type": "stream",
          "text": [
            " mining data mapping sql\n"
          ]
        },
        {
          "data": {
            "text/html": [
              "\n",
              "  <div id=\"df-3baa122b-23b8-48df-ae4e-9111f408da08\">\n",
              "    <div class=\"colab-df-container\">\n",
              "      <div>\n",
              "<style scoped>\n",
              "    .dataframe tbody tr th:only-of-type {\n",
              "        vertical-align: middle;\n",
              "    }\n",
              "\n",
              "    .dataframe tbody tr th {\n",
              "        vertical-align: top;\n",
              "    }\n",
              "\n",
              "    .dataframe thead th {\n",
              "        text-align: right;\n",
              "    }\n",
              "</style>\n",
              "<table border=\"1\" class=\"dataframe\">\n",
              "  <thead>\n",
              "    <tr style=\"text-align: right;\">\n",
              "      <th></th>\n",
              "      <th>index</th>\n",
              "      <th>JD</th>\n",
              "      <th>scores</th>\n",
              "    </tr>\n",
              "  </thead>\n",
              "  <tbody>\n",
              "    <tr>\n",
              "      <th>0</th>\n",
              "      <td>422</td>\n",
              "      <td>data analyst</td>\n",
              "      <td>[0.9572967245070433]</td>\n",
              "    </tr>\n",
              "    <tr>\n",
              "      <th>1</th>\n",
              "      <td>1012</td>\n",
              "      <td>data analyst</td>\n",
              "      <td>[0.5029931130207843]</td>\n",
              "    </tr>\n",
              "    <tr>\n",
              "      <th>2</th>\n",
              "      <td>1261</td>\n",
              "      <td>data analyst</td>\n",
              "      <td>[0.46156103182856517]</td>\n",
              "    </tr>\n",
              "    <tr>\n",
              "      <th>3</th>\n",
              "      <td>1233</td>\n",
              "      <td>data analyst</td>\n",
              "      <td>[0.46156103182856517]</td>\n",
              "    </tr>\n",
              "    <tr>\n",
              "      <th>4</th>\n",
              "      <td>568</td>\n",
              "      <td>business analyst</td>\n",
              "      <td>[0.4331243296986616]</td>\n",
              "    </tr>\n",
              "    <tr>\n",
              "      <th>5</th>\n",
              "      <td>1337</td>\n",
              "      <td>business systems analyst</td>\n",
              "      <td>[0.41495509364693894]</td>\n",
              "    </tr>\n",
              "    <tr>\n",
              "      <th>6</th>\n",
              "      <td>474</td>\n",
              "      <td>data architect</td>\n",
              "      <td>[0.36349439261416777]</td>\n",
              "    </tr>\n",
              "    <tr>\n",
              "      <th>7</th>\n",
              "      <td>200</td>\n",
              "      <td>data scientist</td>\n",
              "      <td>[0.33865054729863886]</td>\n",
              "    </tr>\n",
              "    <tr>\n",
              "      <th>8</th>\n",
              "      <td>58</td>\n",
              "      <td>data architect</td>\n",
              "      <td>[0.32978002131101913]</td>\n",
              "    </tr>\n",
              "  </tbody>\n",
              "</table>\n",
              "</div>\n",
              "      <button class=\"colab-df-convert\" onclick=\"convertToInteractive('df-3baa122b-23b8-48df-ae4e-9111f408da08')\"\n",
              "              title=\"Convert this dataframe to an interactive table.\"\n",
              "              style=\"display:none;\">\n",
              "        \n",
              "  <svg xmlns=\"http://www.w3.org/2000/svg\" height=\"24px\"viewBox=\"0 0 24 24\"\n",
              "       width=\"24px\">\n",
              "    <path d=\"M0 0h24v24H0V0z\" fill=\"none\"/>\n",
              "    <path d=\"M18.56 5.44l.94 2.06.94-2.06 2.06-.94-2.06-.94-.94-2.06-.94 2.06-2.06.94zm-11 1L8.5 8.5l.94-2.06 2.06-.94-2.06-.94L8.5 2.5l-.94 2.06-2.06.94zm10 10l.94 2.06.94-2.06 2.06-.94-2.06-.94-.94-2.06-.94 2.06-2.06.94z\"/><path d=\"M17.41 7.96l-1.37-1.37c-.4-.4-.92-.59-1.43-.59-.52 0-1.04.2-1.43.59L10.3 9.45l-7.72 7.72c-.78.78-.78 2.05 0 2.83L4 21.41c.39.39.9.59 1.41.59.51 0 1.02-.2 1.41-.59l7.78-7.78 2.81-2.81c.8-.78.8-2.07 0-2.86zM5.41 20L4 18.59l7.72-7.72 1.47 1.35L5.41 20z\"/>\n",
              "  </svg>\n",
              "      </button>\n",
              "      \n",
              "  <style>\n",
              "    .colab-df-container {\n",
              "      display:flex;\n",
              "      flex-wrap:wrap;\n",
              "      gap: 12px;\n",
              "    }\n",
              "\n",
              "    .colab-df-convert {\n",
              "      background-color: #E8F0FE;\n",
              "      border: none;\n",
              "      border-radius: 50%;\n",
              "      cursor: pointer;\n",
              "      display: none;\n",
              "      fill: #1967D2;\n",
              "      height: 32px;\n",
              "      padding: 0 0 0 0;\n",
              "      width: 32px;\n",
              "    }\n",
              "\n",
              "    .colab-df-convert:hover {\n",
              "      background-color: #E2EBFA;\n",
              "      box-shadow: 0px 1px 2px rgba(60, 64, 67, 0.3), 0px 1px 3px 1px rgba(60, 64, 67, 0.15);\n",
              "      fill: #174EA6;\n",
              "    }\n",
              "\n",
              "    [theme=dark] .colab-df-convert {\n",
              "      background-color: #3B4455;\n",
              "      fill: #D2E3FC;\n",
              "    }\n",
              "\n",
              "    [theme=dark] .colab-df-convert:hover {\n",
              "      background-color: #434B5C;\n",
              "      box-shadow: 0px 1px 3px 1px rgba(0, 0, 0, 0.15);\n",
              "      filter: drop-shadow(0px 1px 2px rgba(0, 0, 0, 0.3));\n",
              "      fill: #FFFFFF;\n",
              "    }\n",
              "  </style>\n",
              "\n",
              "      <script>\n",
              "        const buttonEl =\n",
              "          document.querySelector('#df-3baa122b-23b8-48df-ae4e-9111f408da08 button.colab-df-convert');\n",
              "        buttonEl.style.display =\n",
              "          google.colab.kernel.accessAllowed ? 'block' : 'none';\n",
              "\n",
              "        async function convertToInteractive(key) {\n",
              "          const element = document.querySelector('#df-3baa122b-23b8-48df-ae4e-9111f408da08');\n",
              "          const dataTable =\n",
              "            await google.colab.kernel.invokeFunction('convertToInteractive',\n",
              "                                                     [key], {});\n",
              "          if (!dataTable) return;\n",
              "\n",
              "          const docLinkHtml = 'Like what you see? Visit the ' +\n",
              "            '<a target=\"_blank\" href=https://colab.research.google.com/notebooks/data_table.ipynb>data table notebook</a>'\n",
              "            + ' to learn more about interactive tables.';\n",
              "          element.innerHTML = '';\n",
              "          dataTable['output_type'] = 'display_data';\n",
              "          await google.colab.output.renderOutput(dataTable, element);\n",
              "          const docLink = document.createElement('div');\n",
              "          docLink.innerHTML = docLinkHtml;\n",
              "          element.appendChild(docLink);\n",
              "        }\n",
              "      </script>\n",
              "    </div>\n",
              "  </div>\n",
              "  "
            ],
            "text/plain": [
              "   index                        JD                 scores\n",
              "0    422              data analyst   [0.9572967245070433]\n",
              "1   1012              data analyst   [0.5029931130207843]\n",
              "2   1261              data analyst  [0.46156103182856517]\n",
              "3   1233              data analyst  [0.46156103182856517]\n",
              "4    568          business analyst   [0.4331243296986616]\n",
              "5   1337  business systems analyst  [0.41495509364693894]\n",
              "6    474            data architect  [0.36349439261416777]\n",
              "7    200            data scientist  [0.33865054729863886]\n",
              "8     58            data architect  [0.32978002131101913]"
            ]
          },
          "execution_count": 69,
          "metadata": {},
          "output_type": "execute_result"
        }
      ],
      "source": [
        "list_data(422)"
      ]
    },
    {
      "cell_type": "code",
      "execution_count": null,
      "metadata": {
        "id": "xUK7DmDI-4QH"
      },
      "outputs": [],
      "source": []
    }
  ],
  "metadata": {
    "colab": {
      "collapsed_sections": [
        "RC8hJXYDuaHR",
        "Nd9kuIMmhQKl",
        "gxV1dG9VK0gd",
        "Z2Fc-aY1--Ni"
      ],
      "provenance": []
    },
    "kernelspec": {
      "display_name": "Python 3.8.10 64-bit",
      "language": "python",
      "name": "python3"
    },
    "language_info": {
      "codemirror_mode": {
        "name": "ipython",
        "version": 3
      },
      "file_extension": ".py",
      "mimetype": "text/x-python",
      "name": "python",
      "nbconvert_exporter": "python",
      "pygments_lexer": "ipython3",
      "version": "3.8.10"
    },
    "vscode": {
      "interpreter": {
        "hash": "916dbcbb3f70747c44a77c7bcd40155683ae19c65e1c03b4aa3499c5328201f1"
      }
    }
  },
  "nbformat": 4,
  "nbformat_minor": 0
}
