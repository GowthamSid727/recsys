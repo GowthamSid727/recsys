{
 "cells": [
  {
   "cell_type": "code",
   "execution_count": 1,
   "metadata": {},
   "outputs": [],
   "source": [
    "from sklearn.metrics.pairwise import cosine_similarity\n",
    "from sklearn.feature_extraction.text import TfidfVectorizer\n",
    "import pandas as pd\n",
    "import re"
   ]
  },
  {
   "cell_type": "code",
   "execution_count": 2,
   "metadata": {},
   "outputs": [],
   "source": [
    "def cleanResume(resumeText):\n",
    "    resumeText = re.sub('\\r\\n', ' ', resumeText) # remove blank spaces\n",
    "    resumeText = re.sub('[%s]' % re.escape(\"\"\"!\"#$%&'()*+,-/:;<=>?@[\\]^_`{|}~\"\"\"), ' ', resumeText)  # remove punctuations\n",
    "    resumeText = re.sub(r'[^\\x00-\\x7f]',r' ', resumeText) # non ascii values\n",
    "    resumeText = re.sub('\\s+', ' ', resumeText)  # remove extra whitespace\n",
    "    resumeText = resumeText.lower() # convert to lower case\n",
    "    return resumeText\n",
    "\n",
    "def data_loader(df):\n",
    "  df['skills'] = df['skills'].apply(lambda x:cleanResume(x))\n",
    "  df['jobtitle'] = df['jobtitle'].apply(lambda x:cleanResume(x))\n",
    "  return df"
   ]
  },
  {
   "cell_type": "code",
   "execution_count": 3,
   "metadata": {},
   "outputs": [],
   "source": [
    "def skills(df,skill_data):\n",
    "      indexx = []\n",
    "      id = []\n",
    "      job_title = []\n",
    "      score = []\n",
    "      score_list = []\n",
    "      dataset = pd.DataFrame(df.skills)\n",
    "      dataset.loc[len(dataset)] = skill_data\n",
    "      \n",
    "      \n",
    "      tfidf = TfidfVectorizer()\n",
    "\n",
    "      tfidf_matrix = tfidf.fit_transform(dataset.skills)\n",
    "      indice = pd.Series(dataset.index, index=dataset['skills'])\n",
    "      cosine_sim = cosine_similarity(tfidf_matrix, tfidf_matrix)\n",
    "\n",
    "      similarity_scores = pd.DataFrame(cosine_sim[len(dataset)-1], columns=[\"score\"]) \n",
    "      movie_indices = similarity_scores.sort_values(\"score\", ascending=False)[0:10].index \n",
    "\n",
    "      result1 = dataset['skills'].iloc[movie_indices]\n",
    "      result2 = similarity_scores.iloc[movie_indices]\n",
    "\n",
    "      \n",
    "      id.append(result1.index)\n",
    "      for indx in range(1,len(id[0])):\n",
    "        indexx.append(id[0][indx])\n",
    "\n",
    "      score.append(result2.values.tolist())\n",
    "      for sc in range(1,len(score[0])):\n",
    "        score_list.append(score[0][sc])\n",
    "\n",
    "\n",
    "      for i in range(0,len(indexx)):\n",
    "        data_cell_2 = df.at[indexx[i], \"jobtitle\"]                   \n",
    "        job_title.append(data_cell_2)\n",
    "\n",
    "      outcome = pd.DataFrame({'Id':indexx, 'JD':job_title, 'Scores':score_list})\n",
    "      return outcome\n"
   ]
  },
  {
   "cell_type": "code",
   "execution_count": 4,
   "metadata": {},
   "outputs": [],
   "source": [
    "def skill_list(df,num):\n",
    "\n",
    "      data_skill = df.at[num, \"skills\"]\n",
    "      words = data_skill.split(' ')\n",
    "      skill_full = \" \".join(set(words))\n",
    "\n",
    "      return skill_full"
   ]
  },
  {
   "cell_type": "code",
   "execution_count": 5,
   "metadata": {},
   "outputs": [],
   "source": [
    "def skills_function(df,skill):\n",
    "      skill_history = []\n",
    "      flag=0\n",
    "      num=10000\n",
    "      while True:\n",
    "            if num==-1:\n",
    "                  break\n",
    "      \n",
    "            if flag==0:\n",
    "                  input_skill_jd = skills(df,skill)\n",
    "                  skill_history.append(skill)\n",
    "                  print(input_skill_jd)\n",
    "                  flag=1\n",
    "            \n",
    "            \n",
    "            num = int(input(\"Enter a number:\")) \n",
    "            new_skills = skill_list(df,num) \n",
    "            skill_history.append(new_skills)\n",
    "\n",
    "            skill = skill.split() + new_skills.split(' ')\n",
    "            skill = \" \".join(set(skill))\n",
    "            skill = \" \".join(set(skill.split()))\n",
    "            output_skills = skills(df,skill)\n",
    "            print(\"--\",)\n",
    "            print(\"---->\",output_skills)\n"
   ]
  },
  {
   "cell_type": "code",
   "execution_count": 6,
   "metadata": {},
   "outputs": [
    {
     "name": "stdout",
     "output_type": "stream",
     "text": [
      "     Id                 JD                 Scores\n",
      "0   254   python developer   [0.6350836596771549]\n",
      "1   433   business analyst   [0.4866387924502208]\n",
      "2   751   python developer  [0.46969338195187466]\n",
      "3   820   business analyst   [0.4606285717562324]\n",
      "4  1136  software engineer   [0.4606285717562324]\n",
      "5  1206   business analyst   [0.4588138593586399]\n",
      "6   523       data analyst   [0.4471235708466563]\n",
      "7   249     java developer  [0.44143940487035466]\n",
      "8   568   business analyst  [0.42498189258373514]\n"
     ]
    },
    {
     "ename": "ValueError",
     "evalue": "invalid literal for int() with base 10: ''",
     "output_type": "error",
     "traceback": [
      "\u001b[0;31m---------------------------------------------------------------------------\u001b[0m",
      "\u001b[0;31mValueError\u001b[0m                                Traceback (most recent call last)",
      "\u001b[1;32m/home/sid/Optisol/Recommendation systems/content_filtering.ipynb Cell 6\u001b[0m in \u001b[0;36m<cell line: 8>\u001b[0;34m()\u001b[0m\n\u001b[1;32m      <a href='vscode-notebook-cell:/home/sid/Optisol/Recommendation%20systems/content_filtering.ipynb#W5sZmlsZQ%3D%3D?line=4'>5</a>\u001b[0m       skills \u001b[39m=\u001b[39m \u001b[39m\"\u001b[39m\u001b[39mpython sql analysis\u001b[39m\u001b[39m\"\u001b[39m\n\u001b[1;32m      <a href='vscode-notebook-cell:/home/sid/Optisol/Recommendation%20systems/content_filtering.ipynb#W5sZmlsZQ%3D%3D?line=5'>6</a>\u001b[0m       skills_function(df,skills)\n\u001b[0;32m----> <a href='vscode-notebook-cell:/home/sid/Optisol/Recommendation%20systems/content_filtering.ipynb#W5sZmlsZQ%3D%3D?line=7'>8</a>\u001b[0m main()\n",
      "\u001b[1;32m/home/sid/Optisol/Recommendation systems/content_filtering.ipynb Cell 6\u001b[0m in \u001b[0;36mmain\u001b[0;34m()\u001b[0m\n\u001b[1;32m      <a href='vscode-notebook-cell:/home/sid/Optisol/Recommendation%20systems/content_filtering.ipynb#W5sZmlsZQ%3D%3D?line=3'>4</a>\u001b[0m df \u001b[39m=\u001b[39m data_loader(data)\n\u001b[1;32m      <a href='vscode-notebook-cell:/home/sid/Optisol/Recommendation%20systems/content_filtering.ipynb#W5sZmlsZQ%3D%3D?line=4'>5</a>\u001b[0m skills \u001b[39m=\u001b[39m \u001b[39m\"\u001b[39m\u001b[39mpython sql analysis\u001b[39m\u001b[39m\"\u001b[39m\n\u001b[0;32m----> <a href='vscode-notebook-cell:/home/sid/Optisol/Recommendation%20systems/content_filtering.ipynb#W5sZmlsZQ%3D%3D?line=5'>6</a>\u001b[0m skills_function(df,skills)\n",
      "\u001b[1;32m/home/sid/Optisol/Recommendation systems/content_filtering.ipynb Cell 6\u001b[0m in \u001b[0;36mskills_function\u001b[0;34m(df, skill)\u001b[0m\n\u001b[1;32m     <a href='vscode-notebook-cell:/home/sid/Optisol/Recommendation%20systems/content_filtering.ipynb#W5sZmlsZQ%3D%3D?line=11'>12</a>\u001b[0m       \u001b[39mprint\u001b[39m(input_skill_jd)\n\u001b[1;32m     <a href='vscode-notebook-cell:/home/sid/Optisol/Recommendation%20systems/content_filtering.ipynb#W5sZmlsZQ%3D%3D?line=12'>13</a>\u001b[0m       flag\u001b[39m=\u001b[39m\u001b[39m1\u001b[39m\n\u001b[0;32m---> <a href='vscode-notebook-cell:/home/sid/Optisol/Recommendation%20systems/content_filtering.ipynb#W5sZmlsZQ%3D%3D?line=15'>16</a>\u001b[0m num \u001b[39m=\u001b[39m \u001b[39mint\u001b[39;49m(\u001b[39minput\u001b[39;49m(\u001b[39m\"\u001b[39;49m\u001b[39mEnter a number:\u001b[39;49m\u001b[39m\"\u001b[39;49m)) \n\u001b[1;32m     <a href='vscode-notebook-cell:/home/sid/Optisol/Recommendation%20systems/content_filtering.ipynb#W5sZmlsZQ%3D%3D?line=16'>17</a>\u001b[0m new_skills \u001b[39m=\u001b[39m skill_list(df,num) \n\u001b[1;32m     <a href='vscode-notebook-cell:/home/sid/Optisol/Recommendation%20systems/content_filtering.ipynb#W5sZmlsZQ%3D%3D?line=17'>18</a>\u001b[0m skill_history\u001b[39m.\u001b[39mappend(new_skills)\n",
      "\u001b[0;31mValueError\u001b[0m: invalid literal for int() with base 10: ''"
     ]
    }
   ],
   "source": [
    "def main():\n",
    "      #skills = str(input(\"Enter your Resume Skills:\"))\n",
    "      data = pd.read_csv('dataset/filtere_dice_jobs_dataset.csv', low_memory=False)\n",
    "      df = data_loader(data)\n",
    "      skills = \"python sql analysis\"\n",
    "      skills_function(df,skills)\n",
    "\n",
    "main()"
   ]
  },
  {
   "cell_type": "code",
   "execution_count": null,
   "metadata": {},
   "outputs": [],
   "source": []
  }
 ],
 "metadata": {
  "kernelspec": {
   "display_name": "Python 3.8.10 64-bit",
   "language": "python",
   "name": "python3"
  },
  "language_info": {
   "codemirror_mode": {
    "name": "ipython",
    "version": 3
   },
   "file_extension": ".py",
   "mimetype": "text/x-python",
   "name": "python",
   "nbconvert_exporter": "python",
   "pygments_lexer": "ipython3",
   "version": "3.8.10"
  },
  "orig_nbformat": 4,
  "vscode": {
   "interpreter": {
    "hash": "916dbcbb3f70747c44a77c7bcd40155683ae19c65e1c03b4aa3499c5328201f1"
   }
  }
 },
 "nbformat": 4,
 "nbformat_minor": 2
}
